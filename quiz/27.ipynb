{
 "cells": [
  {
   "cell_type": "code",
   "execution_count": 1,
   "metadata": {},
   "outputs": [],
   "source": [
    "import numpy"
   ]
  },
  {
   "cell_type": "code",
   "execution_count": 27,
   "metadata": {},
   "outputs": [],
   "source": [
    "# print(evalbool([[1,-1,0], [-1,0,1], [0,1,0]],  [True, False, False])) true\n",
    "def evalbool(F, xvals):\n",
    "    sol= False\n",
    "    for i in range(len(F)):\n",
    "        temp=True \n",
    "        cheksum=0       #incase if [0,0,0...] is there\n",
    "        for j in range(len(xvals)):\n",
    "            if F[i][j]== 1:\n",
    "                mul= xvals[j]\n",
    "                cheksum=1\n",
    "            elif F[i][j]== -1:\n",
    "                mul= not xvals[j]\n",
    "                cheksum=1\n",
    "            elif F[i][j]==0:\n",
    "                continue\n",
    "            temp= temp and mul\n",
    "            if cheksum==0:\n",
    "                temp= False        \n",
    "        sol= temp or sol\n",
    "    return sol"
   ]
  },
  {
   "cell_type": "code",
   "execution_count": 28,
   "metadata": {},
   "outputs": [
    {
     "data": {
      "text/plain": [
       "True"
      ]
     },
     "execution_count": 28,
     "metadata": {},
     "output_type": "execute_result"
    }
   ],
   "source": [
    "evalbool([[1,-1,0], [-1,0,1], [0,1,0]],  [True, False, False])"
   ]
  },
  {
   "cell_type": "code",
   "execution_count": 45,
   "metadata": {},
   "outputs": [],
   "source": [
    "def gridpaths(M, N, x1, y1, x2, y2):\n",
    "    n= abs(x2-x1)\n",
    "    m= abs(y2-y1)\n",
    "    return (int(m*n))\n",
    "\n",
    "#hyporthesis   N= x2-x1 M= y2-y1\n",
    "# (N+1)(N+2)(M)(M-1)/4"
   ]
  },
  {
   "cell_type": "code",
   "execution_count": 46,
   "metadata": {},
   "outputs": [
    {
     "data": {
      "text/plain": [
       "8"
      ]
     },
     "execution_count": 46,
     "metadata": {},
     "output_type": "execute_result"
    }
   ],
   "source": [
    "gridpaths(9, 6, 2, 2, 6, 4)"
   ]
  }
 ],
 "metadata": {
  "kernelspec": {
   "display_name": "base",
   "language": "python",
   "name": "python3"
  },
  "language_info": {
   "codemirror_mode": {
    "name": "ipython",
    "version": 3
   },
   "file_extension": ".py",
   "mimetype": "text/x-python",
   "name": "python",
   "nbconvert_exporter": "python",
   "pygments_lexer": "ipython3",
   "version": "3.8.16"
  },
  "orig_nbformat": 4
 },
 "nbformat": 4,
 "nbformat_minor": 2
}
