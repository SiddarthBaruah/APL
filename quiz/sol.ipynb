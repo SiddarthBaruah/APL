{
 "cells": [
  {
   "cell_type": "code",
   "execution_count": 1,
   "metadata": {},
   "outputs": [],
   "source": [
    "\n",
    "    \n",
    "def pr_help(l):\n",
    "    return \",\".join(map(str, map(float, l)))\n"
   ]
  },
  {
   "cell_type": "code",
   "execution_count": 45,
   "metadata": {},
   "outputs": [],
   "source": [
    "A = [3, 2, 5, 6]\n",
    "\n",
    "B = [1, 2, 4]\n",
    "\n",
    "#Br= [4,2,1]"
   ]
  },
  {
   "cell_type": "code",
   "execution_count": 73,
   "metadata": {},
   "outputs": [],
   "source": [
    "def convolve(A, B):\n",
    "    lenA= len(A)\n",
    "    lenB= len(B)\n",
    "    a= A.copy()\n",
    "    Br=[]\n",
    "    for i in range(lenB-1):\n",
    "        a.insert(0,0)\n",
    "    for i in reversed(B):\n",
    "        Br.append(i)\n",
    "    C= []\n",
    "    for i in range(1,lenA+lenB):\n",
    "        sum=0\n",
    "        for j in range(len(Br)):\n",
    "            try:\n",
    "                sum += a[j]*Br[j]\n",
    "            except:\n",
    "                pass\n",
    "        C.append(sum)\n",
    "        Br.insert(0,0)\n",
    "    return C"
   ]
  },
  {
   "cell_type": "code",
   "execution_count": 74,
   "metadata": {},
   "outputs": [
    {
     "data": {
      "text/plain": [
       "[3, 8, 21, 24, 32, 24]"
      ]
     },
     "execution_count": 74,
     "metadata": {},
     "output_type": "execute_result"
    }
   ],
   "source": [
    "convolve(A,B)"
   ]
  },
  {
   "cell_type": "code",
   "execution_count": 48,
   "metadata": {},
   "outputs": [
    {
     "data": {
      "text/plain": [
       "[1, 2, 2, 2]"
      ]
     },
     "execution_count": 48,
     "metadata": {},
     "output_type": "execute_result"
    }
   ],
   "source": [
    "a=[1,2]\n",
    "a.insert(1,2)\n",
    "a.insert(1,2)\n",
    "a"
   ]
  },
  {
   "attachments": {},
   "cell_type": "markdown",
   "metadata": {},
   "source": [
    "Question 2"
   ]
  },
  {
   "cell_type": "code",
   "execution_count": 82,
   "metadata": {},
   "outputs": [],
   "source": [
    "def polyadd(A, B):\n",
    "    C=[0]*max(len(A), len(B))\n",
    "    for i in range(max(len(A), len(B))):\n",
    "        try:\n",
    "            C[i]=A[i]+B[i]\n",
    "        except:\n",
    "            if(len(A)>len(B)):\n",
    "                C[i]= A[i]\n",
    "            else:\n",
    "                C[i]= B[i]\n",
    "    return C\n",
    "    \n",
    "def polymul(A, B):\n",
    "    C=[0]*(len(A)+len(B)-1)\n",
    "    for i in range(len(A)):\n",
    "        for j in range(len(B)):\n",
    "            C[i+j] += A[i]*B[j]\n",
    "    return C\n",
    "\n",
    "def polydiv(A, B):\n",
    "    return ([], [])\n",
    "    \n",
    "def pr_help(l):\n",
    "    return \",\".join(map(str, map(float, l)))\n"
   ]
  },
  {
   "cell_type": "code",
   "execution_count": 79,
   "metadata": {},
   "outputs": [],
   "source": [
    "a=[7, 3, 5]\n",
    "b=[10, 2]"
   ]
  },
  {
   "cell_type": "code",
   "execution_count": 83,
   "metadata": {},
   "outputs": [
    {
     "name": "stdout",
     "output_type": "stream",
     "text": [
      "70\n",
      "14\n",
      "44\n",
      "6\n",
      "56\n",
      "10\n"
     ]
    },
    {
     "data": {
      "text/plain": [
       "[70, 44, 56, 10, 0]"
      ]
     },
     "execution_count": 83,
     "metadata": {},
     "output_type": "execute_result"
    }
   ],
   "source": [
    "polymul(a,b)"
   ]
  }
 ],
 "metadata": {
  "kernelspec": {
   "display_name": "base",
   "language": "python",
   "name": "python3"
  },
  "language_info": {
   "codemirror_mode": {
    "name": "ipython",
    "version": 3
   },
   "file_extension": ".py",
   "mimetype": "text/x-python",
   "name": "python",
   "nbconvert_exporter": "python",
   "pygments_lexer": "ipython3",
   "version": "3.8.16"
  },
  "orig_nbformat": 4
 },
 "nbformat": 4,
 "nbformat_minor": 2
}
