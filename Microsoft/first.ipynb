{
 "cells": [
  {
   "cell_type": "code",
   "execution_count": 1,
   "metadata": {},
   "outputs": [],
   "source": [
    "import numpy as np\n",
    "import pandas as pd \n"
   ]
  },
  {
   "cell_type": "code",
   "execution_count": 35,
   "metadata": {},
   "outputs": [],
   "source": [
    "\n",
    "def rotated(array):    \n",
    "    array=np.transpose(array)\n",
    "    return np.flipud(array)\n",
    "\n",
    "def flipped(array):\n",
    "    return np.flipud(array)\n",
    "def rolled(matrix, shift_amount):\n",
    "    return np.roll(matrix, shift_amount, axis=1)\n",
    "\n",
    "def noise(array):\n",
    "    np.random.seed(0)\n",
    "    noise= np.random.normal(0,0.5, array.shape)\n",
    "\n",
    "    noisy_matrix= noise +array\n",
    "    return noisy_matrix\n",
    "        \n",
    "\n",
    "def transform_image(array, shift):\n",
    "    array= np.array(array)\n",
    "    \n",
    "    toret= {'rotated': rotated(array.copy()), 'flipped': flipped(array.copy()), 'rolled': rolled(array.copy(),shift), 'noised':noise(array.copy())}\n",
    "    return toret\n"
   ]
  },
  {
   "cell_type": "code",
   "execution_count": 36,
   "metadata": {},
   "outputs": [],
   "source": [
    "array= [ [0,1,1,1,0]\n",
    "        ,[0,1,0,1,0]\n",
    "        ,[0,1,1,1,0]\n",
    "        ,[0,0,0,1,0]\n",
    "        ,[0,0,0,1,0]]\n",
    "\n",
    "res= transform_image(array,1)"
   ]
  },
  {
   "cell_type": "code",
   "execution_count": 38,
   "metadata": {},
   "outputs": [
    {
     "data": {
      "text/plain": [
       "array([[ 0.88202617,  1.2000786 ,  1.48936899,  2.1204466 ,  0.933779  ],\n",
       "       [-0.48863894,  1.47504421, -0.0756786 ,  0.94839057,  0.20529925],\n",
       "       [ 0.07202179,  1.72713675,  1.38051886,  1.06083751,  0.22193162],\n",
       "       [ 0.16683716,  0.74703954, -0.10257913,  1.15653385, -0.42704787],\n",
       "       [-1.27649491,  0.3268093 ,  0.4322181 ,  0.62891749,  1.13487731]])"
      ]
     },
     "execution_count": 38,
     "metadata": {},
     "output_type": "execute_result"
    }
   ],
   "source": [
    "res['noised']"
   ]
  },
  {
   "cell_type": "code",
   "execution_count": 29,
   "metadata": {},
   "outputs": [
    {
     "name": "stdout",
     "output_type": "stream",
     "text": [
      "[[0 1 1 1 0]\n",
      " [0 1 0 1 0]\n",
      " [0 1 1 1 0]\n",
      " [0 0 0 1 0]\n",
      " [0 0 0 1 0]]\n"
     ]
    }
   ],
   "source": [
    "array2= [ [0,1,1,1,0]\n",
    "        ,[0,1,0,1,0]\n",
    "        ,[0,1,1,1,0]\n",
    "        ,[0,0,0,1,0]\n",
    "        ,[0,0,0,1,0]]\n",
    "\n",
    "array2= np.array(array2)\n",
    "\n",
    "print(array2)"
   ]
  },
  {
   "cell_type": "code",
   "execution_count": null,
   "metadata": {},
   "outputs": [],
   "source": []
  }
 ],
 "metadata": {
  "kernelspec": {
   "display_name": "base",
   "language": "python",
   "name": "python3"
  },
  "language_info": {
   "codemirror_mode": {
    "name": "ipython",
    "version": 3
   },
   "file_extension": ".py",
   "mimetype": "text/x-python",
   "name": "python",
   "nbconvert_exporter": "python",
   "pygments_lexer": "ipython3",
   "version": "3.8.16"
  },
  "orig_nbformat": 4
 },
 "nbformat": 4,
 "nbformat_minor": 2
}
