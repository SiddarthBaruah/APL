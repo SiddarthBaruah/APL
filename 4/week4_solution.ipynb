{
 "cells": [
  {
   "cell_type": "markdown",
   "metadata": {},
   "source": []
  },
  {
   "cell_type": "markdown",
   "metadata": {},
   "source": [
    "# About Code and How to run:\n",
    "- This is a simple **.ipynb** file just run it in **jupyter notebook** \n",
    "-I have divided the program in  different function so the previous block of code is might be required for getting the correct output form the current block.\n",
    "- So to avoid some unusual output run the code serially.\n",
    "- The function are well defind and **comments** have been given where ever required.\n",
    "- As the code is itself too long and i think it is self  explanatory because i tried to use as much similar name of variable to what they are getting used for inside the code ,so why i have not given very large explanation on working of function \n",
    "- One can easily understand the codes if he/she goes **serially and manually**.\n",
    "- I have stored output of Both the **topological_sort and EVENT_DRIVEN **seperately in two output files named :\n",
    " - for **EVENT_DRIVEN**=> file name is -**EVENT_DRIVEN_OUTPUT.txt**\n",
    " - for **TOPOLOGICAL_SORT**=> file name is - **topological_Sort.txt**\n",
    "- If you have any difficulty in reading or understanding function anywhere just ask me to explain .\n"
   ]
  },
  {
   "cell_type": "code",
   "execution_count": 8,
   "metadata": {},
   "outputs": [],
   "source": [
    "def pri(A):\n",
    "    for i in A:\n",
    "        print(i)"
   ]
  },
  {
   "cell_type": "markdown",
   "metadata": {},
   "source": [
    "## Below Functions are defined for performing logical operation to get output"
   ]
  },
  {
   "cell_type": "code",
   "execution_count": 9,
   "metadata": {},
   "outputs": [],
   "source": [
    "#Functions defined for performing logical operation\n",
    "def andFunc(a,b):\n",
    "    if(a==0 or b==0):\n",
    "        return 0\n",
    "    else:\n",
    "        return 1\n",
    "\n",
    "def orFunc(a,b):\n",
    "    if(a==1 or b==1):\n",
    "        return 1\n",
    "    else:\n",
    "        return 0\n",
    "\n",
    "def invFunc(a):\n",
    "    if(a==1):\n",
    "        return 0\n",
    "    else:\n",
    "        return 1\n",
    "\n",
    "def norFunc(a,b):\n",
    "    if(a==1 or b==1):\n",
    "        return 0\n",
    "    else:\n",
    "        return 1\n",
    "\n",
    "def nandFunc(a,b):\n",
    "    if(a==0 or b==0):\n",
    "        return 1\n",
    "    else:\n",
    "        return 0\n",
    "\n",
    "def xorFunc(a,b):\n",
    "    if ((a==1 and b==0) or (a==0 and b==1)):\n",
    "        return 1\n",
    "    else:\n",
    "        return 0\n",
    "        \n",
    "def xnorFunc(a,b):\n",
    "    if ((a==1 and b==0) or (a==0 and b==1)):\n",
    "        return 0\n",
    "    else:\n",
    "        return 1"
   ]
  },
  {
   "cell_type": "markdown",
   "metadata": {},
   "source": [
    "## The below code is for Reading the input file"
   ]
  },
  {
   "cell_type": "code",
   "execution_count": 10,
   "metadata": {},
   "outputs": [],
   "source": [
    "# Function for Reading of gate and circuit information\n",
    "def read_netlist(filename):\n",
    "    with open(filename,'r') as mainfile:\n",
    "        file_storage=mainfile.readlines()\n",
    "        return file_storage"
   ]
  },
  {
   "cell_type": "code",
   "execution_count": 11,
   "metadata": {},
   "outputs": [],
   "source": [
    "# Fucntion for reading of inputs\n",
    "def read_input(filename):\n",
    "    with open(filename,'r') as mainfile:\n",
    "        file_storage=mainfile.readlines()\n",
    "        return file_storage\n"
   ]
  },
  {
   "cell_type": "code",
   "execution_count": 12,
   "metadata": {},
   "outputs": [
    {
     "name": "stdout",
     "output_type": "stream",
     "text": [
      "primary_input at different time instant : \n",
      "['N1', 'N2', 'N3', 'N6', 'N7']\n",
      "['0', '1', '0', '0', '0']\n",
      "['0', '0', '1', '0', '0']\n",
      "['1', '0', '0', '0', '0']\n",
      "['0', '0', '1', '1', '1']\n",
      "['1', '1', '1', '1', '1']\n",
      "['1', '1', '1', '0', '0']\n",
      "['1', '1', '1', '1', '0']\n",
      "['1', '1', '0', '0', '0']\n",
      "['0', '1', '1', '0', '1']\n",
      "['0', '0', '1', '1', '0']\n"
     ]
    }
   ],
   "source": [
    "ckt_netlist=read_netlist('c17.net')\n",
    "ckt_detail=[]\n",
    "for line in ckt_netlist:\n",
    "    ckt_detail.append(line)\n",
    "\n",
    "ckt_input=read_input('c17.inputs')\n",
    "inputckt_detail=[]\n",
    "for line in ckt_input:\n",
    "    inputckt_detail.append(line.rstrip('\\n').split())\n",
    "print('primary_input at different time instant : ')\n",
    "pri(inputckt_detail)"
   ]
  },
  {
   "cell_type": "markdown",
   "metadata": {},
   "source": [
    "## SECTION : Making of graph using inbuilt Function by adding edges"
   ]
  },
  {
   "cell_type": "code",
   "execution_count": 13,
   "metadata": {},
   "outputs": [
    {
     "name": "stdout",
     "output_type": "stream",
     "text": [
      "{'N22': ['nand2', 'n_3', 'n_0', 'N22'], 'N23': ['nand2', 'n_3', 'n_2', 'N23'], 'n_3': ['nand2', 'n_1', 'N2', 'n_3'], 'n_2': ['nand2', 'n_1', 'N7', 'n_2'], 'n_0': ['nand2', 'N1', 'N3', 'n_0'], 'n_1': ['nand2', 'N3', 'N6', 'n_1']}\n",
      "\n"
     ]
    }
   ],
   "source": [
    "import networkx as nx\n",
    "g=nx.DiGraph()\n",
    "connection={}  # For storing connection like storing of connections based on output (i.e. key is output and the value is connected elements)\n",
    "for i in range(len(ckt_detail)):\n",
    "    if(ckt_detail[i].split()[1]=='inv' or ckt_detail[i].split()[1]=='buf'):\n",
    "        connection[ckt_detail[i].split()[3]]=ckt_detail[i].split()[1:len(ckt_detail[i])-2]\n",
    "    else:\n",
    "        connection[ckt_detail[i].split()[4]]=ckt_detail[i].split()[1:len(ckt_detail[i])-2]\n",
    "print(connection)\n",
    "for ele in connection:\n",
    "    if(connection[ele][0]=='inv' or connection[ele][0]=='buf'):\n",
    "        g.add_edges_from([(connection[ele][1],connection[ele][2])])\n",
    "        # nx.set_node_attributes(g,{connection[ele][2]:ele})\n",
    "    else:\n",
    "        g.add_edges_from([(connection[ele][1],connection[ele][3]),(connection[ele][2],connection[ele][3])])\n",
    "        # nx.set_node_attributes(g,{connection[ele][3]:ele})\n",
    "\n",
    "\n",
    "print(g)"
   ]
  },
  {
   "cell_type": "markdown",
   "metadata": {},
   "source": [
    "# Topological sort for ordering of output and input of gate"
   ]
  },
  {
   "cell_type": "markdown",
   "metadata": {},
   "source": [
    "### Error handling"
   ]
  },
  {
   "cell_type": "code",
   "execution_count": 14,
   "metadata": {},
   "outputs": [
    {
     "name": "stdout",
     "output_type": "stream",
     "text": [
      "Nodes in topological order ['N6', 'N3', 'n_1', 'N1', 'n_0', 'N7', 'n_2', 'N2', 'n_3', 'N23', 'N22']\n"
     ]
    }
   ],
   "source": [
    "error=False\n",
    "try:\n",
    "    nl =  list(nx.topological_sort(g))\n",
    "    print('Nodes in topological order', nl)\n",
    "except:\n",
    "    error=True\n",
    "    print(\"!!!  ERRROR :   CYCLIC GRAPH\")"
   ]
  },
  {
   "cell_type": "code",
   "execution_count": 15,
   "metadata": {},
   "outputs": [
    {
     "name": "stdout",
     "output_type": "stream",
     "text": [
      "['N1', 'N2', 'N3', 'N6', 'N7']\n",
      "Primary Inputs are : \n",
      "{'N1': [0, 0, 1, 0, 1, 1, 1, 1, 0, 0], 'N2': [1, 0, 0, 0, 1, 1, 1, 1, 1, 0], 'N3': [0, 1, 0, 1, 1, 1, 1, 0, 1, 1], 'N6': [0, 0, 0, 1, 1, 0, 1, 0, 0, 1], 'N7': [0, 0, 0, 1, 1, 0, 0, 0, 1, 0]}\n",
      "\n",
      "connetion are means in dictionary connection output is key and other things related to output are its value : \n",
      "{'N22': ['nand2', 'n_3', 'n_0', 'N22'], 'N23': ['nand2', 'n_3', 'n_2', 'N23'], 'n_3': ['nand2', 'n_1', 'N2', 'n_3'], 'n_2': ['nand2', 'n_1', 'N7', 'n_2'], 'n_0': ['nand2', 'N1', 'N3', 'n_0'], 'n_1': ['nand2', 'N3', 'N6', 'n_1']}\n"
     ]
    }
   ],
   "source": [
    "primary_input={}\n",
    "print(inputckt_detail[0])\n",
    "for i in range(len(inputckt_detail[0])):\n",
    "    primary_input.update({inputckt_detail[0][i]:[]})\n",
    "for i in range(1,len(inputckt_detail)):\n",
    "    for j in range(len(inputckt_detail[0])):\n",
    "        primary_input[inputckt_detail[0][j]].append(int(inputckt_detail[i][j]))\n",
    "try:\n",
    "    for ele in primary_input:\n",
    "        for value in primary_input[ele] :\n",
    "            if value==0 or value ==1:\n",
    "                continue\n",
    "            else:\n",
    "                raise ValueError\n",
    "except ValueError:\n",
    "    print('!!! ERROR WRONG INPUT FORMAT')\n",
    "print('Primary Inputs are : ')\n",
    "print(primary_input)\n",
    "\n",
    "print()\n",
    "print('connetion are means in dictionary connection output is key and other things related to output are its value : ')\n",
    "print(connection)\n"
   ]
  },
  {
   "cell_type": "markdown",
   "metadata": {},
   "source": [
    "# EXPLANATION OF BELOW CODE\n",
    "- FUNCTION topo_sort_fun : takes 3 input (connection ,input_detail,primary_input)\n",
    "- Based on above topological sorting I am just traversing the topological order and calculaing the value of output accordingly.\n",
    "- after calculating all the output of all the nodes i am storing the output in final output \n",
    "- after that there is a file writing process that will write the output correspondingly in a file named topological_Sort.txt."
   ]
  },
  {
   "cell_type": "code",
   "execution_count": 16,
   "metadata": {},
   "outputs": [],
   "source": [
    "import copy\n",
    "# Function topo sort find the solution based on topological sorting ordering\n",
    "def topo_sort_func(connection,inputc8_detail,primary_input):\n",
    "    if(error):\n",
    "        print('!!! ERRROR CYCLIC GRAPH ')\n",
    "        return\n",
    "    final_output=[]\n",
    "    for i in range(1,len(inputc8_detail)):\n",
    "        output_detail={}  #storing dictionary for output\n",
    "        for ele in nl:\n",
    "            if(ele in primary_input.keys()):\n",
    "                output_detail.update({ele:primary_input[ele][i-1]})\n",
    "            else:\n",
    "                if(connection[ele][0]=='and2'):\n",
    "                    output_detail.update({ele:andFunc(output_detail[connection[ele][1]],output_detail[connection[ele][2]])})\n",
    "                if(connection[ele][0]=='or2'):\n",
    "                    output_detail.update({ele:orFunc(output_detail[connection[ele][1]],output_detail[connection[ele][2]])})\n",
    "                if(connection[ele][0]=='inv'):\n",
    "                    output_detail.update({ele:invFunc(output_detail[connection[ele][1]])})\n",
    "                if(connection[ele][0]=='nand2'):\n",
    "                    output_detail.update({ele:nandFunc(output_detail[connection[ele][1]],output_detail[connection[ele][2]])})\n",
    "                if(connection[ele][0]=='nor2'):\n",
    "                    output_detail.update({ele:norFunc(output_detail[connection[ele][1]],output_detail[connection[ele][2]])})\n",
    "                if(connection[ele][0]=='xor2'):\n",
    "                    output_detail.update({ele:xorFunc(output_detail[connection[ele][1]],output_detail[connection[ele][2]])})\n",
    "                if(connection[ele][0]=='xnor2'):\n",
    "                    output_detail.update({ele:xnorFunc(output_detail[connection[ele][1]],output_detail[connection[ele][2]])})\n",
    "                if(connection[ele][0]=='buf'):\n",
    "                    output_detail.update({ele:output_detail[connection[ele][1]]})\n",
    "        # print(f\"for input {i} values of all noes are :\") # Uncomment this and the below line to view the output at differnt input in file\n",
    "        # print(output_detail)\n",
    "        final_output.append(copy.deepcopy(output_detail))\n",
    "    return final_output\n",
    "\n",
    "topo_sort_Output=topo_sort_func(connection,inputckt_detail,primary_input) \n",
    "\n",
    "# print('topo_sort_Output : ')\n",
    "# print(topo_sort_Output)\n",
    "\n",
    "# File writing for the solution \n",
    "with open('topological_Sort.txt','w') as f:\n",
    "    for nodes in sorted(nl):\n",
    "        f.write(f'{nodes:<10}')\n",
    "    f.write(\"\\n\")\n",
    "    for element in topo_sort_Output:\n",
    "        for ele in sorted(element.keys()):\n",
    "            f.write(f'{element[ele]:<10}')\n",
    "        f.write('\\n')\n",
    "    "
   ]
  },
  {
   "cell_type": "markdown",
   "metadata": {},
   "source": [
    "# EVENT DRIVEN SOLUTION"
   ]
  },
  {
   "cell_type": "code",
   "execution_count": 17,
   "metadata": {},
   "outputs": [],
   "source": [
    "# connections \n",
    "# print(connection) #storage dictionary according to output key is output and other things are stored in lsit\n",
    "# print(inputc8_detail) # storage after reading of input file\n",
    "# print(primary_input) # store primary input values"
   ]
  },
  {
   "cell_type": "markdown",
   "metadata": {},
   "source": [
    "# Explantaiton of below function\n",
    "- Function is taking three argument-> connection (stores information about circuit), input_detail(details of input),primaryinput(stores primary input and its values at different time instant) all these three are defined above and it is passed in the parameter just after the function end when calling the function.\n",
    "- Inside the function I am using the queue to sotre and do the operation needed for evnet driven approach.\n",
    "- Inside the function iterating over the different instant of input and checking the input when the input changes i am just appending that element in the queue and then iterating over the queue till the queue is not empty and assigning the updated output of different nodes.\n",
    "- I have used input_connection to store the output that will be affected by changing the that particular input.\n",
    "- final_output is storing the final output .\n",
    "- "
   ]
  },
  {
   "cell_type": "code",
   "execution_count": 18,
   "metadata": {},
   "outputs": [],
   "source": [
    "\n",
    "import copy\n",
    "# print(primary_input)\n",
    "def Event_Driven_solution(connection,input_detail,primary_input):\n",
    "    \n",
    "    if(error):\n",
    "        print('!!! ERRROR CYCLIC GRAPH ')\n",
    "        return\n",
    "\n",
    "    final_output=[]\n",
    "    final_output.clear()\n",
    "    updated_output={}  # dictionary for storing the output at different changing output\n",
    "    updated_output.clear()\n",
    "    queue=[]\n",
    "\n",
    "    # print(connection)\n",
    "    # storing the connection like whcih are the outut corresponding to a particular input inside the input_connection \n",
    "    intput_connnection={}\n",
    "    for ele in connection:\n",
    "        if(connection[ele][0]!='inv' and connection[ele][0]!='buf'):\n",
    "            intput_connnection.update({connection[ele][1]:[]})\n",
    "            intput_connnection.update({connection[ele][2]:[]})\n",
    "        else:\n",
    "            intput_connnection.update({connection[ele][1]:[]})\n",
    "    \n",
    "    # Populating the input_connection dictonary\n",
    "    for ele in connection:\n",
    "        # print(ele)\n",
    "        if(connection[ele][0]!='inv' and connection[ele][0]!='buf'):\n",
    "            current_ele1=intput_connnection[connection[ele][1]]\n",
    "            current_ele1=current_ele1+[ele]\n",
    "\n",
    "            current_ele2=intput_connnection[connection[ele][2]]\n",
    "            current_ele2=current_ele2+[ele]\n",
    "\n",
    "            intput_connnection.update({connection[ele][1]:current_ele1})\n",
    "            intput_connnection.update({connection[ele][2]:current_ele2})\n",
    "        else:\n",
    "            current_ele1=intput_connnection[connection[ele][1]]\n",
    "            current_ele1=current_ele1+[ele]\n",
    "            intput_connnection.update({connection[ele][1]:current_ele1})\n",
    "   \n",
    "    # print('input connection : ')   #Uncomment this and below three lines it will show the input connection means storing what are \n",
    "    # print(intput_connnection)   #different output connected to a given input \n",
    "    # print(primary_input)\n",
    "    queue.clear()\n",
    "    # print(len(input_detail))\n",
    "    for i in range(len(input_detail)-1):\n",
    "        for ele in primary_input:\n",
    "            if(i==0):\n",
    "                queue.append(ele)\n",
    "                updated_output.update({ele:primary_input[ele][i]})\n",
    "            else:\n",
    "                if(primary_input[ele][i]!=primary_input[ele][i-1]):\n",
    "                    queue.append(ele)\n",
    "                    updated_output.update({ele:primary_input[ele][i]})\n",
    "                else:\n",
    "                    updated_output.update({ele:primary_input[ele][i]})\n",
    "\n",
    "        # Do the operation while queue is not empty\n",
    "        while(len(queue)>0):\n",
    "            \n",
    "            curr_vertex=queue.pop(0)\n",
    "            if curr_vertex in primary_input.keys():\n",
    "                if curr_vertex in intput_connnection.keys():\n",
    "                    for all_output in intput_connnection[curr_vertex]:\n",
    "                        queue.append(all_output)\n",
    "            else:\n",
    "                if connection[curr_vertex][0]!='inv' and connection[curr_vertex][0]!='buf':\n",
    "                    inp1=connection[curr_vertex][1]\n",
    "                    inp2=connection[curr_vertex][2]\n",
    "                    if inp1 in updated_output.keys() and inp2 in updated_output.keys():\n",
    "                        if connection[curr_vertex][0]=='and2':\n",
    "                            updated_output.update({curr_vertex:andFunc(updated_output[inp1],updated_output[inp2])})\n",
    "                        elif connection[curr_vertex][0]=='or2':\n",
    "                            updated_output.update({curr_vertex:orFunc(updated_output[inp1],updated_output[inp2])})\n",
    "                        elif connection[curr_vertex][0]=='nand2':\n",
    "                            updated_output.update({curr_vertex:nandFunc(updated_output[inp1],updated_output[inp2])})\n",
    "                        elif connection[curr_vertex][0]=='nor2':\n",
    "                            updated_output.update({curr_vertex:norFunc(updated_output[inp1],updated_output[inp2])})\n",
    "                        elif connection[curr_vertex][0]=='xor2':\n",
    "                            updated_output.update({curr_vertex:xorFunc(updated_output[inp1],updated_output[inp2])})\n",
    "                        elif connection[curr_vertex][0]=='xnor2':\n",
    "                            updated_output.update({curr_vertex:xnorFunc(updated_output[inp1],updated_output[inp2])})\n",
    "                    else:\n",
    "                        queue.append(curr_vertex)\n",
    "                        continue\n",
    "                    if curr_vertex in intput_connnection.keys():\n",
    "                        for all_output in intput_connnection[curr_vertex]:\n",
    "                            queue.append(all_output)\n",
    "                \n",
    "                else:\n",
    "                    inp1=connection[curr_vertex][1]\n",
    "                    if(inp1 in updated_output.keys()):\n",
    "                        if connection[curr_vertex][0]=='inv':\n",
    "                            updated_output.update({curr_vertex:invFunc(updated_output[inp1])})\n",
    "                        elif connection[curr_vertex][0]=='buf':\n",
    "                            updated_output.update({curr_vertex:updated_output[inp1]})\n",
    "                    else:\n",
    "                        queue.append(curr_vertex)\n",
    "                        continue\n",
    "                    if curr_vertex in intput_connnection.keys():\n",
    "                        for all_output in intput_connnection[curr_vertex]:\n",
    "                            queue.append(all_output)\n",
    "        # print(f'Different Nodes value for input at {i} are : ')# Uncomment these two lines for showing output at different instance of time\n",
    "        # print(updated_output)\n",
    "        final_output.append(copy.deepcopy(updated_output))\n",
    "    return final_output\n",
    "event_driven_Output=Event_Driven_solution(connection,inputckt_detail,primary_input)  #Calling of Event_Driven function for getting output\n",
    "\n",
    "# Writing the Output in file EVENT_DRIVEN_OUTPUT.txt\n",
    "with open('EVENT_DRIVEN_OUTPUT.txt','w') as f:\n",
    "    for nodes in sorted(nl):\n",
    "        f.write(f'{nodes:<10}')\n",
    "    f.write(\"\\n\")\n",
    "    for element in event_driven_Output:\n",
    "        for ele in sorted(element.keys()):\n",
    "            f.write(f'{element[ele]:<10}')\n",
    "        f.write('\\n')\n"
   ]
  },
  {
   "cell_type": "code",
   "execution_count": 22,
   "metadata": {},
   "outputs": [
    {
     "data": {
      "text/plain": [
       "['N6', 'N3', 'n_1', 'N1', 'n_0', 'N7', 'n_2', 'N2', 'n_3', 'N23', 'N22']"
      ]
     },
     "execution_count": 22,
     "metadata": {},
     "output_type": "execute_result"
    }
   ],
   "source": [
    "nl"
   ]
  },
  {
   "cell_type": "code",
   "execution_count": 19,
   "metadata": {},
   "outputs": [
    {
     "name": "stdout",
     "output_type": "stream",
     "text": [
      "The time taken by Event_driven_solution : \n",
      "288 µs ± 4.15 µs per loop (mean ± std. dev. of 7 runs, 1000 loops each)\n",
      "the time taken by topo_sort_function : \n"
     ]
    },
    {
     "ename": "NameError",
     "evalue": "name 'inputc8_detail' is not defined",
     "output_type": "error",
     "traceback": [
      "\u001b[1;31m---------------------------------------------------------------------------\u001b[0m",
      "\u001b[1;31mNameError\u001b[0m                                 Traceback (most recent call last)",
      "\u001b[1;32m<ipython-input-19-4b9b5cab8dee>\u001b[0m in \u001b[0;36m<module>\u001b[1;34m\u001b[0m\n\u001b[0;32m      2\u001b[0m \u001b[0mget_ipython\u001b[0m\u001b[1;33m(\u001b[0m\u001b[1;33m)\u001b[0m\u001b[1;33m.\u001b[0m\u001b[0mrun_line_magic\u001b[0m\u001b[1;33m(\u001b[0m\u001b[1;34m'timeit'\u001b[0m\u001b[1;33m,\u001b[0m \u001b[1;34m'Event_Driven_solution(connection,inputckt_detail,primary_input)'\u001b[0m\u001b[1;33m)\u001b[0m\u001b[1;33m\u001b[0m\u001b[1;33m\u001b[0m\u001b[0m\n\u001b[0;32m      3\u001b[0m \u001b[0mprint\u001b[0m\u001b[1;33m(\u001b[0m\u001b[1;34m'the time taken by topo_sort_function : '\u001b[0m\u001b[1;33m)\u001b[0m\u001b[1;33m\u001b[0m\u001b[1;33m\u001b[0m\u001b[0m\n\u001b[1;32m----> 4\u001b[1;33m \u001b[0mget_ipython\u001b[0m\u001b[1;33m(\u001b[0m\u001b[1;33m)\u001b[0m\u001b[1;33m.\u001b[0m\u001b[0mrun_line_magic\u001b[0m\u001b[1;33m(\u001b[0m\u001b[1;34m'timeit'\u001b[0m\u001b[1;33m,\u001b[0m \u001b[1;34m'topo_sort_func(connection,inputc8_detail,primary_input)'\u001b[0m\u001b[1;33m)\u001b[0m\u001b[1;33m\u001b[0m\u001b[1;33m\u001b[0m\u001b[0m\n\u001b[0m",
      "\u001b[1;32me:\\Softwares\\Python2\\lib\\site-packages\\IPython\\core\\interactiveshell.py\u001b[0m in \u001b[0;36mrun_line_magic\u001b[1;34m(self, magic_name, line, _stack_depth)\u001b[0m\n\u001b[0;32m   2342\u001b[0m                 \u001b[0mkwargs\u001b[0m\u001b[1;33m[\u001b[0m\u001b[1;34m'local_ns'\u001b[0m\u001b[1;33m]\u001b[0m \u001b[1;33m=\u001b[0m \u001b[0mself\u001b[0m\u001b[1;33m.\u001b[0m\u001b[0mget_local_scope\u001b[0m\u001b[1;33m(\u001b[0m\u001b[0mstack_depth\u001b[0m\u001b[1;33m)\u001b[0m\u001b[1;33m\u001b[0m\u001b[1;33m\u001b[0m\u001b[0m\n\u001b[0;32m   2343\u001b[0m             \u001b[1;32mwith\u001b[0m \u001b[0mself\u001b[0m\u001b[1;33m.\u001b[0m\u001b[0mbuiltin_trap\u001b[0m\u001b[1;33m:\u001b[0m\u001b[1;33m\u001b[0m\u001b[1;33m\u001b[0m\u001b[0m\n\u001b[1;32m-> 2344\u001b[1;33m                 \u001b[0mresult\u001b[0m \u001b[1;33m=\u001b[0m \u001b[0mfn\u001b[0m\u001b[1;33m(\u001b[0m\u001b[1;33m*\u001b[0m\u001b[0margs\u001b[0m\u001b[1;33m,\u001b[0m \u001b[1;33m**\u001b[0m\u001b[0mkwargs\u001b[0m\u001b[1;33m)\u001b[0m\u001b[1;33m\u001b[0m\u001b[1;33m\u001b[0m\u001b[0m\n\u001b[0m\u001b[0;32m   2345\u001b[0m             \u001b[1;32mreturn\u001b[0m \u001b[0mresult\u001b[0m\u001b[1;33m\u001b[0m\u001b[1;33m\u001b[0m\u001b[0m\n\u001b[0;32m   2346\u001b[0m \u001b[1;33m\u001b[0m\u001b[0m\n",
      "\u001b[1;32me:\\Softwares\\Python2\\lib\\site-packages\\decorator.py\u001b[0m in \u001b[0;36mfun\u001b[1;34m(*args, **kw)\u001b[0m\n\u001b[0;32m    229\u001b[0m             \u001b[1;32mif\u001b[0m \u001b[1;32mnot\u001b[0m \u001b[0mkwsyntax\u001b[0m\u001b[1;33m:\u001b[0m\u001b[1;33m\u001b[0m\u001b[1;33m\u001b[0m\u001b[0m\n\u001b[0;32m    230\u001b[0m                 \u001b[0margs\u001b[0m\u001b[1;33m,\u001b[0m \u001b[0mkw\u001b[0m \u001b[1;33m=\u001b[0m \u001b[0mfix\u001b[0m\u001b[1;33m(\u001b[0m\u001b[0margs\u001b[0m\u001b[1;33m,\u001b[0m \u001b[0mkw\u001b[0m\u001b[1;33m,\u001b[0m \u001b[0msig\u001b[0m\u001b[1;33m)\u001b[0m\u001b[1;33m\u001b[0m\u001b[1;33m\u001b[0m\u001b[0m\n\u001b[1;32m--> 231\u001b[1;33m             \u001b[1;32mreturn\u001b[0m \u001b[0mcaller\u001b[0m\u001b[1;33m(\u001b[0m\u001b[0mfunc\u001b[0m\u001b[1;33m,\u001b[0m \u001b[1;33m*\u001b[0m\u001b[1;33m(\u001b[0m\u001b[0mextras\u001b[0m \u001b[1;33m+\u001b[0m \u001b[0margs\u001b[0m\u001b[1;33m)\u001b[0m\u001b[1;33m,\u001b[0m \u001b[1;33m**\u001b[0m\u001b[0mkw\u001b[0m\u001b[1;33m)\u001b[0m\u001b[1;33m\u001b[0m\u001b[1;33m\u001b[0m\u001b[0m\n\u001b[0m\u001b[0;32m    232\u001b[0m     \u001b[0mfun\u001b[0m\u001b[1;33m.\u001b[0m\u001b[0m__name__\u001b[0m \u001b[1;33m=\u001b[0m \u001b[0mfunc\u001b[0m\u001b[1;33m.\u001b[0m\u001b[0m__name__\u001b[0m\u001b[1;33m\u001b[0m\u001b[1;33m\u001b[0m\u001b[0m\n\u001b[0;32m    233\u001b[0m     \u001b[0mfun\u001b[0m\u001b[1;33m.\u001b[0m\u001b[0m__doc__\u001b[0m \u001b[1;33m=\u001b[0m \u001b[0mfunc\u001b[0m\u001b[1;33m.\u001b[0m\u001b[0m__doc__\u001b[0m\u001b[1;33m\u001b[0m\u001b[1;33m\u001b[0m\u001b[0m\n",
      "\u001b[1;32me:\\Softwares\\Python2\\lib\\site-packages\\IPython\\core\\magic.py\u001b[0m in \u001b[0;36m<lambda>\u001b[1;34m(f, *a, **k)\u001b[0m\n\u001b[0;32m    185\u001b[0m     \u001b[1;31m# but it's overkill for just that one bit of state.\u001b[0m\u001b[1;33m\u001b[0m\u001b[1;33m\u001b[0m\u001b[1;33m\u001b[0m\u001b[0m\n\u001b[0;32m    186\u001b[0m     \u001b[1;32mdef\u001b[0m \u001b[0mmagic_deco\u001b[0m\u001b[1;33m(\u001b[0m\u001b[0marg\u001b[0m\u001b[1;33m)\u001b[0m\u001b[1;33m:\u001b[0m\u001b[1;33m\u001b[0m\u001b[1;33m\u001b[0m\u001b[0m\n\u001b[1;32m--> 187\u001b[1;33m         \u001b[0mcall\u001b[0m \u001b[1;33m=\u001b[0m \u001b[1;32mlambda\u001b[0m \u001b[0mf\u001b[0m\u001b[1;33m,\u001b[0m \u001b[1;33m*\u001b[0m\u001b[0ma\u001b[0m\u001b[1;33m,\u001b[0m \u001b[1;33m**\u001b[0m\u001b[0mk\u001b[0m\u001b[1;33m:\u001b[0m \u001b[0mf\u001b[0m\u001b[1;33m(\u001b[0m\u001b[1;33m*\u001b[0m\u001b[0ma\u001b[0m\u001b[1;33m,\u001b[0m \u001b[1;33m**\u001b[0m\u001b[0mk\u001b[0m\u001b[1;33m)\u001b[0m\u001b[1;33m\u001b[0m\u001b[1;33m\u001b[0m\u001b[0m\n\u001b[0m\u001b[0;32m    188\u001b[0m \u001b[1;33m\u001b[0m\u001b[0m\n\u001b[0;32m    189\u001b[0m         \u001b[1;32mif\u001b[0m \u001b[0mcallable\u001b[0m\u001b[1;33m(\u001b[0m\u001b[0marg\u001b[0m\u001b[1;33m)\u001b[0m\u001b[1;33m:\u001b[0m\u001b[1;33m\u001b[0m\u001b[1;33m\u001b[0m\u001b[0m\n",
      "\u001b[1;32me:\\Softwares\\Python2\\lib\\site-packages\\IPython\\core\\magics\\execution.py\u001b[0m in \u001b[0;36mtimeit\u001b[1;34m(self, line, cell, local_ns)\u001b[0m\n\u001b[0;32m   1167\u001b[0m             \u001b[1;32mfor\u001b[0m \u001b[0mindex\u001b[0m \u001b[1;32min\u001b[0m \u001b[0mrange\u001b[0m\u001b[1;33m(\u001b[0m\u001b[1;36m0\u001b[0m\u001b[1;33m,\u001b[0m \u001b[1;36m10\u001b[0m\u001b[1;33m)\u001b[0m\u001b[1;33m:\u001b[0m\u001b[1;33m\u001b[0m\u001b[1;33m\u001b[0m\u001b[0m\n\u001b[0;32m   1168\u001b[0m                 \u001b[0mnumber\u001b[0m \u001b[1;33m=\u001b[0m \u001b[1;36m10\u001b[0m \u001b[1;33m**\u001b[0m \u001b[0mindex\u001b[0m\u001b[1;33m\u001b[0m\u001b[1;33m\u001b[0m\u001b[0m\n\u001b[1;32m-> 1169\u001b[1;33m                 \u001b[0mtime_number\u001b[0m \u001b[1;33m=\u001b[0m \u001b[0mtimer\u001b[0m\u001b[1;33m.\u001b[0m\u001b[0mtimeit\u001b[0m\u001b[1;33m(\u001b[0m\u001b[0mnumber\u001b[0m\u001b[1;33m)\u001b[0m\u001b[1;33m\u001b[0m\u001b[1;33m\u001b[0m\u001b[0m\n\u001b[0m\u001b[0;32m   1170\u001b[0m                 \u001b[1;32mif\u001b[0m \u001b[0mtime_number\u001b[0m \u001b[1;33m>=\u001b[0m \u001b[1;36m0.2\u001b[0m\u001b[1;33m:\u001b[0m\u001b[1;33m\u001b[0m\u001b[1;33m\u001b[0m\u001b[0m\n\u001b[0;32m   1171\u001b[0m                     \u001b[1;32mbreak\u001b[0m\u001b[1;33m\u001b[0m\u001b[1;33m\u001b[0m\u001b[0m\n",
      "\u001b[1;32me:\\Softwares\\Python2\\lib\\site-packages\\IPython\\core\\magics\\execution.py\u001b[0m in \u001b[0;36mtimeit\u001b[1;34m(self, number)\u001b[0m\n\u001b[0;32m    167\u001b[0m         \u001b[0mgc\u001b[0m\u001b[1;33m.\u001b[0m\u001b[0mdisable\u001b[0m\u001b[1;33m(\u001b[0m\u001b[1;33m)\u001b[0m\u001b[1;33m\u001b[0m\u001b[1;33m\u001b[0m\u001b[0m\n\u001b[0;32m    168\u001b[0m         \u001b[1;32mtry\u001b[0m\u001b[1;33m:\u001b[0m\u001b[1;33m\u001b[0m\u001b[1;33m\u001b[0m\u001b[0m\n\u001b[1;32m--> 169\u001b[1;33m             \u001b[0mtiming\u001b[0m \u001b[1;33m=\u001b[0m \u001b[0mself\u001b[0m\u001b[1;33m.\u001b[0m\u001b[0minner\u001b[0m\u001b[1;33m(\u001b[0m\u001b[0mit\u001b[0m\u001b[1;33m,\u001b[0m \u001b[0mself\u001b[0m\u001b[1;33m.\u001b[0m\u001b[0mtimer\u001b[0m\u001b[1;33m)\u001b[0m\u001b[1;33m\u001b[0m\u001b[1;33m\u001b[0m\u001b[0m\n\u001b[0m\u001b[0;32m    170\u001b[0m         \u001b[1;32mfinally\u001b[0m\u001b[1;33m:\u001b[0m\u001b[1;33m\u001b[0m\u001b[1;33m\u001b[0m\u001b[0m\n\u001b[0;32m    171\u001b[0m             \u001b[1;32mif\u001b[0m \u001b[0mgcold\u001b[0m\u001b[1;33m:\u001b[0m\u001b[1;33m\u001b[0m\u001b[1;33m\u001b[0m\u001b[0m\n",
      "\u001b[1;32m<magic-timeit>\u001b[0m in \u001b[0;36minner\u001b[1;34m(_it, _timer)\u001b[0m\n",
      "\u001b[1;31mNameError\u001b[0m: name 'inputc8_detail' is not defined"
     ]
    }
   ],
   "source": [
    "print('The time taken by Event_driven_solution : ')\n",
    "%timeit Event_Driven_solution(connection,inputckt_detail,primary_input)\n",
    "print('the time taken by topo_sort_function : ')\n",
    "%timeit topo_sort_func(connection,inputc8_detail,primary_input)"
   ]
  },
  {
   "cell_type": "markdown",
   "metadata": {},
   "source": [
    "<b>In some cases the time taken by topological sort may be less than the time taken by Event_driven apporach But in large no of cases we will observe that the time taken by event driven approach is less because if the input changes in  small no than the event driven approach is a way bettr than the topological sort because we need to update only the corresponding output but in topological sort we need to iterate the whole vertex each time to update the output at each terminal respectively.</b>"
   ]
  },
  {
   "cell_type": "markdown",
   "metadata": {},
   "source": []
  }
 ],
 "metadata": {
  "authors": [
   {
    "name": "Aman Kumar EE21B013 <ee21b013@smail.iitm.ac.in>"
   }
  ],
  "kernelspec": {
   "display_name": "Python 3 (ipykernel)",
   "language": "python",
   "name": "python3"
  },
  "language_info": {
   "codemirror_mode": {
    "name": "ipython",
    "version": 3
   },
   "file_extension": ".py",
   "mimetype": "text/x-python",
   "name": "python",
   "nbconvert_exporter": "python",
   "pygments_lexer": "ipython3",
   "version": "3.8.16"
  },
  "vscode": {
   "interpreter": {
    "hash": "b0fa6594d8f4cbf19f97940f81e996739fb7646882a419484c72d19e05852a7e"
   }
  }
 },
 "nbformat": 4,
 "nbformat_minor": 2
}
