{
 "cells": [
  {
   "attachments": {},
   "cell_type": "markdown",
   "metadata": {},
   "source": [
    "# How to run this code:\n",
    "-   To run the code, simply open the provided .ipynb file in Jupyter Notebook. I've divided the program into different functions, so it's important to run the previous blocks of code before running the current block to avoid any unexpected output.\n",
    "\n",
    "-   I've added comments where necessary to make the functions well-defined and easy to understand. Although the code is quite lengthy, I've tried to name the variables in a way that matches their usage, so it should be self-explanatory.\n",
    "\n",
    "-   If you follow the code serially and manually, you should be able to understand it easily. Also, I've stored the output of both the topological sort and event-driven approaches separately in two output files: eventDrivenOutput.txt and topoDrivenOutput.txt, respectively.\n",
    "\n",
    "-   If you have any questions or difficulty understanding any part of the code, feel free to ask for clarification.\n",
    "\n",
    "\n",
    "\n",
    "\n"
   ]
  },
  {
   "cell_type": "code",
   "execution_count": 1,
   "metadata": {},
   "outputs": [],
   "source": [
    "import networkx as nx\n",
    "import copy"
   ]
  },
  {
   "attachments": {},
   "cell_type": "markdown",
   "metadata": {},
   "source": [
    "## The code below is to read the inputs and netlist"
   ]
  },
  {
   "cell_type": "code",
   "execution_count": 12,
   "metadata": {},
   "outputs": [],
   "source": [
    "global len_of_inputs\n",
    "\n",
    "def readNetlis(filename_):\n",
    "    filename= filename_\n",
    "    with open(filename) as f:\n",
    "        circuit= f.read().splitlines()\n",
    "    circuitline=[]\n",
    "    for lines in circuit:\n",
    "        circuitline.append(lines.split())\n",
    "    circuit= circuitline\n",
    "    return circuitline\n",
    "\n",
    "def input_list(filename_):\n",
    "    global len_of_inputs\n",
    "    global inputdetails\n",
    "    filename= filename_\n",
    "    temp=[]\n",
    "    with open(filename) as f:\n",
    "        input = f.read().splitlines()\n",
    "        for line in input:\n",
    "            elements = line.strip().split()\n",
    "            temp.append (elements)\n",
    "        input=temp\n",
    "    inputdetails = input \n",
    "    len_of_inputs= len(input)-1\n",
    "    input_dict={}\n",
    "    for index in range (len(input[0])):\n",
    "        input_dict.update({input[0][index]:[]})\n",
    "    for j in range(1,len(input)):\n",
    "        for i in range(len(input[0])):\n",
    "            value=int(input[j][i])\n",
    "            input_dict[input[0][i]].append(value)\n",
    "        \n",
    "    return input_dict"
   ]
  },
  {
   "cell_type": "code",
   "execution_count": 13,
   "metadata": {},
   "outputs": [],
   "source": [
    "netlist= readNetlis(\"c17.net\")\n",
    "inputs= input_list(\"c17.inputs\")"
   ]
  },
  {
   "attachments": {},
   "cell_type": "markdown",
   "metadata": {},
   "source": [
    "## The following functons are the logical gates"
   ]
  },
  {
   "cell_type": "code",
   "execution_count": 15,
   "metadata": {},
   "outputs": [],
   "source": [
    "def ANDGATE(a,b):\n",
    "    return int(a) and int(b)\n",
    "def ORGATE(a,b):\n",
    "    return int(a) or int(b)\n",
    "def NOTGATE(a):\n",
    "    return int(not(int(a)))\n",
    "def NANDGATE(a,b):\n",
    "    return int(not(ANDGATE(a,b)))\n",
    "def NORGATE(a,b):\n",
    "    return int(not(ORGATE(a,b)))\n",
    "def XORGATE(a,b):\n",
    "    return a^b\n",
    "def XNORGATE(a,b):\n",
    "    return int(not(XORGATE(a,b)))\n",
    "def BUFFGATE(a):\n",
    "    return a"
   ]
  },
  {
   "attachments": {},
   "cell_type": "markdown",
   "metadata": {},
   "source": [
    "The below code makes a graph using inbuilt function by adding edges."
   ]
  },
  {
   "cell_type": "code",
   "execution_count": 16,
   "metadata": {},
   "outputs": [
    {
     "name": "stdout",
     "output_type": "stream",
     "text": [
      "Nodes in topological order ['N2', 'N7', 'N1', 'N3', 'N6', 'n_0', 'n_1', 'n_3', 'n_2', 'N22', 'N23']\n"
     ]
    }
   ],
   "source": [
    "g= nx.DiGraph()\n",
    "error=False\n",
    "for entries in netlist:\n",
    "    if(entries[1]=='inv' or entries[1]=='buf'):\n",
    "        g.add_edge(entries[2],entries[3])\n",
    "    else:\n",
    "        g.add_edge(entries[2],entries[4])\n",
    "        g.add_edge(entries[3],entries[4])\n",
    "\n",
    "try:\n",
    "    topoligical_sort=  list(nx.topological_sort(g))\n",
    "    print(\"Nodes in topological order\", topoligical_sort)\n",
    "except:\n",
    "    print(\"The combinational circuit is not in a combinational circuit format\")\n",
    "    error=1"
   ]
  },
  {
   "cell_type": "code",
   "execution_count": 17,
   "metadata": {},
   "outputs": [],
   "source": [
    "def out_in_():\n",
    "    out_in={}\n",
    "    for entries in netlist:\n",
    "        out_in.update({entries[len(entries)-1]:[]})\n",
    "        for i in range(1,len(entries)-1):\n",
    "            out_in[entries[len(entries)-1]].append(entries[i])\n",
    "    return out_in\n",
    "        \n",
    "out_in= out_in_()"
   ]
  },
  {
   "cell_type": "code",
   "execution_count": 18,
   "metadata": {},
   "outputs": [],
   "source": [
    "def dictionarykeysort(d):\n",
    "    keyssorted= sorted(d.keys())\n",
    "    sorted_dict= {}\n",
    "    for key in keyssorted:\n",
    "        sorted_dict[key]= d[key]\n",
    "    return sorted_dict"
   ]
  },
  {
   "attachments": {},
   "cell_type": "markdown",
   "metadata": {},
   "source": [
    "## Topological Approach\n",
    "In the topological approach, we have a list called \"nl\" that contains the gates in topological order. To calculate the output values, we iterate through the list and check if the current entry is an input or if its predecessors have a value of zero. If it's an input, we load its value from the \"input_value\" dictionary.\n",
    "\n",
    "For non-primary inputs, we track the gate and node used to obtain their value using the \"output_input\" dictionary. Since we're moving in topological order, the values of the input nodes will be known, so we use them to calculate the value of the node.\n",
    "\n",
    "We repeat this process for all the input values and update our output list accordingly."
   ]
  },
  {
   "cell_type": "code",
   "execution_count": 19,
   "metadata": {},
   "outputs": [],
   "source": [
    "class topological_approach():\n",
    "    def __init__(self,out_in,nl,len_in):\n",
    "        self.out_in= out_in\n",
    "        self.nl= nl\n",
    "        self.len_in= len_in\n",
    "\n",
    "    def topoevaluate(self,nl,out_in,input):\n",
    "        out= []\n",
    "        trackout= {}\n",
    "        for items in nl:\n",
    "                if (items in inputs.keys()):\n",
    "                    out.append(inputs[items][input])\n",
    "                    trackout.update({items:inputs[items][input]})\n",
    "                \n",
    "                else:\n",
    "                    if(out_in[items][0]=='nand2'):\n",
    "                        temp= trackout[out_in[items][1]]\n",
    "                        temp1= trackout[out_in[items][2]]\n",
    "                        ans= NANDGATE(temp,temp1)\n",
    "                        out.append(ans)\n",
    "                        trackout.update({items:ans})\n",
    "\n",
    "                    elif(out_in[items][0]=='or2'):\n",
    "                        temp= trackout[out_in[items][1]]\n",
    "                        temp1= trackout[out_in[items][2]]\n",
    "                        ans= ORGATE(temp,temp1)\n",
    "                        out.append(ans)\n",
    "                        trackout.update({items:ans})\n",
    "                    \n",
    "                    elif(out_in[items][0]=='nor2'):\n",
    "                        temp= trackout[out_in[items][1]]\n",
    "                        temp1= trackout[out_in[items][2]]\n",
    "                        ans= NORGATE(temp,temp1)\n",
    "                        out.append(ans)\n",
    "                        trackout.update({items:ans})\n",
    "                    \n",
    "                    elif(out_in[items][0]=='xor2'):\n",
    "                        temp= trackout[out_in[items][1]]\n",
    "                        temp1= trackout[out_in[items][2]]\n",
    "                        ans= XORGATE(temp,temp1)\n",
    "                        out.append(ans)\n",
    "                        trackout.update({items:ans})\n",
    "                    \n",
    "                    elif(out_in[items][0]=='and2'):\n",
    "                        temp= trackout[out_in[items][1]]\n",
    "                        temp1= trackout[out_in[items][2]]\n",
    "                        ans= ANDGATE(temp,temp1)\n",
    "                        out.append(ans)\n",
    "                        trackout.update({items:ans})\n",
    "                    \n",
    "                    elif(out_in[items][0]=='inv'):\n",
    "                        temp= trackout[out_in[items][1]]\n",
    "                        ans= NOTGATE(temp)\n",
    "                        out.append(ans)\n",
    "                        trackout.update({items:ans})\n",
    "                    \n",
    "                    elif(out_in[items][0]=='buf'):\n",
    "                        temp= trackout[out_in[items][1]]\n",
    "                        ans= BUFFGATE(temp)\n",
    "                        out.append(ans)\n",
    "                        trackout.update({items:ans})\n",
    "        return trackout\n",
    "\n",
    "\n",
    "    def topoligical_output(self):  \n",
    "        to_return= []\n",
    "        for input in range(self.len_in):\n",
    "            outtrack= self.topoevaluate(self.nl, self.out_in,input)\n",
    "            to_return.append(dictionarykeysort(outtrack))\n",
    "        return to_return\n",
    "                "
   ]
  },
  {
   "cell_type": "code",
   "execution_count": 20,
   "metadata": {},
   "outputs": [
    {
     "name": "stdout",
     "output_type": "stream",
     "text": [
      "{'N1': 0, 'N2': 1, 'N22': 1, 'N23': 1, 'N3': 0, 'N6': 0, 'N7': 0, 'n_0': 1, 'n_1': 1, 'n_2': 1, 'n_3': 0}\n",
      "{'N1': 0, 'N2': 0, 'N22': 0, 'N23': 0, 'N3': 1, 'N6': 0, 'N7': 0, 'n_0': 1, 'n_1': 1, 'n_2': 1, 'n_3': 1}\n",
      "{'N1': 1, 'N2': 0, 'N22': 0, 'N23': 0, 'N3': 0, 'N6': 0, 'N7': 0, 'n_0': 1, 'n_1': 1, 'n_2': 1, 'n_3': 1}\n",
      "{'N1': 0, 'N2': 0, 'N22': 0, 'N23': 0, 'N3': 1, 'N6': 1, 'N7': 1, 'n_0': 1, 'n_1': 0, 'n_2': 1, 'n_3': 1}\n",
      "{'N1': 1, 'N2': 1, 'N22': 1, 'N23': 0, 'N3': 1, 'N6': 1, 'N7': 1, 'n_0': 0, 'n_1': 0, 'n_2': 1, 'n_3': 1}\n",
      "{'N1': 1, 'N2': 1, 'N22': 1, 'N23': 1, 'N3': 1, 'N6': 0, 'N7': 0, 'n_0': 0, 'n_1': 1, 'n_2': 1, 'n_3': 0}\n",
      "{'N1': 1, 'N2': 1, 'N22': 1, 'N23': 0, 'N3': 1, 'N6': 1, 'N7': 0, 'n_0': 0, 'n_1': 0, 'n_2': 1, 'n_3': 1}\n",
      "{'N1': 1, 'N2': 1, 'N22': 1, 'N23': 1, 'N3': 0, 'N6': 0, 'N7': 0, 'n_0': 1, 'n_1': 1, 'n_2': 1, 'n_3': 0}\n",
      "{'N1': 0, 'N2': 1, 'N22': 1, 'N23': 1, 'N3': 1, 'N6': 0, 'N7': 1, 'n_0': 1, 'n_1': 1, 'n_2': 0, 'n_3': 0}\n",
      "{'N1': 0, 'N2': 0, 'N22': 0, 'N23': 0, 'N3': 1, 'N6': 1, 'N7': 0, 'n_0': 1, 'n_1': 0, 'n_2': 1, 'n_3': 1}\n"
     ]
    }
   ],
   "source": [
    "solver= topological_approach(out_in,topoligical_sort,len_of_inputs)\n",
    "sol = solver.topoligical_output()\n",
    "for i in sol:\n",
    "    print(i)"
   ]
  },
  {
   "attachments": {},
   "cell_type": "markdown",
   "metadata": {},
   "source": [
    "# Event Driven"
   ]
  },
  {
   "attachments": {},
   "cell_type": "markdown",
   "metadata": {},
   "source": [
    "### Explanation of the function for Event-driven Approach\n",
    "The function takes three arguments:\n",
    "\n",
    "-   link: a dictionary that stores information about the circuit, such as the type of gate and its input and output nodes\n",
    "-   in_details: a dictionary that stores information about the input nodes, such as their values at different time instants\n",
    "-   primary: a dictionary that stores information about the primary inputs and their values at different time instants\n",
    "\n",
    "Inside the function, a queue is used to store and perform the operations needed for the event-driven approach. The function then iterates over the different time instants of input and checks if the input has changed. If the input has changed, the corresponding element is appended to the queue.\n",
    "\n",
    "Then the function iterates over the queue till it is empty, and assigns the updated output of different nodes. The input_connection dictionary is used to store the output that will be affected by changing that particular input.\n",
    "\n",
    "The final output is stored in the final_output variable."
   ]
  },
  {
   "cell_type": "code",
   "execution_count": 21,
   "metadata": {},
   "outputs": [],
   "source": [
    "class Event_Driven():\n",
    "    def __init__(self,links,in_details,primary,error):\n",
    "        self.links= links\n",
    "        self.in_details= in_details\n",
    "        self.primary= primary\n",
    "        self.error=error\n",
    "\n",
    "    def Event_Driven_sol(self):\n",
    "    \n",
    "        if(self.error):\n",
    "            print('This is not combinational circuit!! ')\n",
    "            return\n",
    "\n",
    "        final_out=[]\n",
    "        final_out.clear()\n",
    "        out_updated={}  \n",
    "        out_updated.clear()\n",
    "        queue=[]\n",
    "\n",
    "        connect_in={}\n",
    "        for items in self.links:\n",
    "            if(self.links[items][0]!='inv' and self.links[items][0]!='buf'):\n",
    "                connect_in.update({self.links[items][1]:[]})\n",
    "                connect_in.update({self.links[items][2]:[]})\n",
    "            else:\n",
    "                connect_in.update({self.links[items][1]:[]})\n",
    "        \n",
    "        for items in self.links:\n",
    "            # print(ele)\n",
    "            if(self.links[items][0]!='inv' and self.links[items][0]!='buf'):\n",
    "                I_ele1=connect_in[self.links[items][1]]\n",
    "                I_ele1=I_ele1+[items]\n",
    "\n",
    "                current_ele2=connect_in[self.links[items][2]]\n",
    "                current_ele2=current_ele2+[items]\n",
    "\n",
    "                connect_in.update({self.links[items][1]:I_ele1})\n",
    "                connect_in.update({self.links[items][2]:current_ele2})\n",
    "            else:\n",
    "                I_ele1=connect_in[self.links[items][1]]\n",
    "                I_ele1=I_ele1+[items]\n",
    "                connect_in.update({self.links[items][1]:I_ele1})\n",
    "        queue.clear()\n",
    "        for i in range(len(self.in_details)-1):\n",
    "            for items in self.primary:\n",
    "                if(i==0):\n",
    "                    queue.append(items)\n",
    "                    out_updated.update({items:self.primary[items][i]})\n",
    "                else:\n",
    "                    if(self.primary[items][i]!=self.primary[items][i-1]):\n",
    "                        queue.append(items)\n",
    "                        out_updated.update({items:self.primary[items][i]})\n",
    "                    else:\n",
    "                        out_updated.update({items:self.primary[items][i]})\n",
    "            while(len(queue)>0):\n",
    "                \n",
    "                curr_vertex=queue.pop(0)\n",
    "                if curr_vertex in self.primary.keys():\n",
    "                    if curr_vertex in connect_in.keys():\n",
    "                        for all_output in connect_in[curr_vertex]:\n",
    "                            queue.append(all_output)\n",
    "                else:\n",
    "                    if self.links[curr_vertex][0]!='inv' and self.links[curr_vertex][0]!='buf':\n",
    "                        inp1=self.links[curr_vertex][1]\n",
    "                        inp2=self.links[curr_vertex][2]\n",
    "                        if inp1 in out_updated.keys() and inp2 in out_updated.keys():\n",
    "                            if self.links[curr_vertex][0]=='and2':\n",
    "                                out_updated.update({curr_vertex:ANDGATE(out_updated[inp1],out_updated[inp2])})\n",
    "                            elif self.links[curr_vertex][0]=='or2':\n",
    "                                out_updated.update({curr_vertex:ORGATE(out_updated[inp1],out_updated[inp2])})\n",
    "                            elif self.links[curr_vertex][0]=='nand2':\n",
    "                                out_updated.update({curr_vertex:NANDGATE(out_updated[inp1],out_updated[inp2])})\n",
    "                            elif self.links[curr_vertex][0]=='nor2':\n",
    "                                out_updated.update({curr_vertex:NORGATE(out_updated[inp1],out_updated[inp2])})\n",
    "                            elif self.links[curr_vertex][0]=='xor2':\n",
    "                                out_updated.update({curr_vertex:XORGATE(out_updated[inp1],out_updated[inp2])})\n",
    "                            elif self.links[curr_vertex][0]=='xnor2':\n",
    "                                out_updated.update({curr_vertex:XNORGATE(out_updated[inp1],out_updated[inp2])})\n",
    "                        else:\n",
    "                            queue.append(curr_vertex)\n",
    "                            continue\n",
    "                        if curr_vertex in connect_in.keys():\n",
    "                            for all_output in connect_in[curr_vertex]:\n",
    "                                queue.append(all_output)\n",
    "                    \n",
    "                    else:\n",
    "                        inp1=self.links[curr_vertex][1]\n",
    "                        if(inp1 in out_updated.keys()):\n",
    "                            if self.links[curr_vertex][0]=='inv':\n",
    "                                out_updated.update({curr_vertex:NOTGATE(out_updated[inp1])})\n",
    "                            elif self.links[curr_vertex][0]=='buf':\n",
    "                                out_updated.update({curr_vertex:out_updated[inp1]})\n",
    "                        else:\n",
    "                            queue.append(curr_vertex)\n",
    "                            continue\n",
    "                        if curr_vertex in connect_in.keys():\n",
    "                            for all_output in connect_in[curr_vertex]:\n",
    "                                queue.append(all_output)\n",
    "            final_out.append(copy.deepcopy(out_updated))\n",
    "        return final_out\n",
    "\n",
    "\n",
    "event_driven_Output=Event_Driven(out_in,inputdetails,inputs,error)  #Calling of Event_Driven function for getting output\n",
    "solution_Event= event_driven_Output.Event_Driven_sol()\n",
    "\n"
   ]
  },
  {
   "attachments": {},
   "cell_type": "markdown",
   "metadata": {},
   "source": [
    "<b>Writing the Output in file eventDrivenOutput.tx and in topoDrivenOutput.txt</b>"
   ]
  },
  {
   "cell_type": "code",
   "execution_count": 22,
   "metadata": {},
   "outputs": [],
   "source": [
    "def toposave(nl,solution):\n",
    "    with open('topoDrivenOutput.txt','w') as f:\n",
    "        for nodes in sorted(nl):\n",
    "            f.write(f'{nodes:<10}')\n",
    "        f.write(\"\\n\")\n",
    "        for element in solution:\n",
    "            for ele in sorted(element.keys()):\n",
    "                f.write(f'{element[ele]:<10}')\n",
    "            f.write('\\n')\n",
    "def eventsave(nl,solution):\n",
    "    with open('eventDrivenOutput.txt','w') as f:\n",
    "        for nodes in sorted(nl):\n",
    "            f.write(f'{nodes:<10}')\n",
    "        f.write(\"\\n\")\n",
    "        for element in solution:\n",
    "            for ele in sorted(element.keys()):\n",
    "                f.write(f'{element[ele]:<10}')\n",
    "            f.write('\\n')\n",
    "\n",
    "toposave(topoligical_sort,sol)\n",
    "eventsave(topoligical_sort, solution_Event)"
   ]
  },
  {
   "attachments": {},
   "cell_type": "markdown",
   "metadata": {},
   "source": [
    "### Using timit for the two functions"
   ]
  },
  {
   "cell_type": "code",
   "execution_count": 12,
   "metadata": {},
   "outputs": [
    {
     "name": "stdout",
     "output_type": "stream",
     "text": [
      "The time taken by Event_driven_solution : \n"
     ]
    }
   ],
   "source": [
    "print('The time taken by Event_driven_solution : ')\n",
    "%timeit event_driven_Output.Event_Driven_sol()\n",
    "print('the time taken by topo_sort_function : ')\n",
    "%timeit solver.topoligical_output()"
   ]
  },
  {
   "cell_type": "markdown",
   "metadata": {},
   "source": [
    "<b>In some cases, topological sort may take less time than an event-driven approach. However, in many cases, we may observe that the event-driven approach is faster, especially when the input changes only slightly. This is because with the event-driven approach, we only need to update the corresponding output, whereas with topological sort, we need to iterate through all vertices each time to update the output at each terminal.\n",
    "</b>"
   ]
  },
  {
   "attachments": {},
   "cell_type": "markdown",
   "metadata": {},
   "source": [
    "The below code is the <b>Master Code</b> of the entire documentation. So the mastercode takes three arguments. These are:\n",
    "\n",
    "-   netlist: This is asking for the location of the netlist file\n",
    "-   input_filename: This is asking for the file where the inpt array is given\n",
    "-   method: in this, there will be either of the two, 'topo' or 'event' and it is caseinsensitive. \n"
   ]
  },
  {
   "cell_type": "code",
   "execution_count": 25,
   "metadata": {},
   "outputs": [],
   "source": [
    "def MasterCode(netlist,input_filename, method):\n",
    "    netlist= readNetlis(netlist)\n",
    "    inputs= input_list(input_filename)\n",
    "    g= nx.DiGraph()\n",
    "    error=False\n",
    "    \n",
    "    for entries in netlist:\n",
    "        if(entries[1]=='inv' or entries[1]=='buf'):\n",
    "            g.add_edge(entries[2],entries[3])\n",
    "        else:\n",
    "            g.add_edge(entries[2],entries[4])\n",
    "            g.add_edge(entries[3],entries[4])\n",
    "\n",
    "        try:\n",
    "            topoligical_sort=  list(nx.topological_sort(g))\n",
    "        except:\n",
    "            print(\"The combinational circuit is not in a combinational circuit format\")\n",
    "            return\n",
    "    out_in= out_in_()\n",
    "\n",
    "    if method.lower()==\"topo\":    \n",
    "        solver= topological_approach(out_in,topoligical_sort,len_of_inputs)\n",
    "        sol = solver.topoligical_output()\n",
    "        toposave(topoligical_sort,sol)\n",
    "    elif method.lower()==\"event\":\n",
    "        event_driven_Output=Event_Driven(out_in,inputdetails,inputs,error)  #Calling of Event_Driven function for getting output\n",
    "        solution_Event= event_driven_Output.Event_Driven_sol() \n",
    "        eventsave(topoligical_sort, solution_Event)\n",
    "        \n",
    "    "
   ]
  },
  {
   "attachments": {},
   "cell_type": "markdown",
   "metadata": {},
   "source": [
    "<b> Example </b>"
   ]
  },
  {
   "cell_type": "code",
   "execution_count": 26,
   "metadata": {},
   "outputs": [],
   "source": [
    "MasterCode(\"c17.net\",\"c17.inputs\",\"event\")\n",
    "MasterCode(\"c17.net\",\"c17.inputs\",\"topo\")"
   ]
  },
  {
   "cell_type": "code",
   "execution_count": null,
   "metadata": {},
   "outputs": [],
   "source": []
  }
 ],
 "metadata": {
  "kernelspec": {
   "display_name": "base",
   "language": "python",
   "name": "python3"
  },
  "language_info": {
   "codemirror_mode": {
    "name": "ipython",
    "version": 3
   },
   "file_extension": ".py",
   "mimetype": "text/x-python",
   "name": "python",
   "nbconvert_exporter": "python",
   "pygments_lexer": "ipython3",
   "version": "3.8.16"
  },
  "orig_nbformat": 4,
  "vscode": {
   "interpreter": {
    "hash": "b98d9e8c046d4e1ce02cab36f21346f5312db8375035f8b80d948038fba9b1a6"
   }
  }
 },
 "nbformat": 4,
 "nbformat_minor": 2
}
