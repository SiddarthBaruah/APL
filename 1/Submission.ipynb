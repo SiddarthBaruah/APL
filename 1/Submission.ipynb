{
 "cells": [
  {
   "cell_type": "markdown",
   "id": "90d271f4",
   "metadata": {},
   "source": [
    "## Numerical types"
   ]
  },
  {
   "cell_type": "code",
   "execution_count": 2,
   "id": "1e2d2e6e",
   "metadata": {},
   "outputs": [
    {
     "name": "stdout",
     "output_type": "stream",
     "text": [
      "2.4\n"
     ]
    }
   ],
   "source": [
    "print(12 / 5)"
   ]
  },
  {
   "cell_type": "code",
   "execution_count": 3,
   "id": "1b587eb7",
   "metadata": {},
   "outputs": [
    {
     "name": "stdout",
     "output_type": "stream",
     "text": [
      "2\n"
     ]
    }
   ],
   "source": [
    "print(12 // 5)"
   ]
  },
  {
   "cell_type": "code",
   "execution_count": 4,
   "id": "97a6c535",
   "metadata": {},
   "outputs": [
    {
     "name": "stdout",
     "output_type": "stream",
     "text": [
      "10 10 1.0\n"
     ]
    }
   ],
   "source": [
    "a=b=10\n",
    "print(a,b,a/b)"
   ]
  },
  {
   "cell_type": "markdown",
   "id": "af329d1c",
   "metadata": {},
   "source": [
    "## Strings and related operations"
   ]
  },
  {
   "cell_type": "code",
   "execution_count": 5,
   "id": "ba913542",
   "metadata": {},
   "outputs": [
    {
     "name": "stdout",
     "output_type": "stream",
     "text": [
      "Hello \n"
     ]
    }
   ],
   "source": [
    "a = \"Hello \"\n",
    "print(a)"
   ]
  },
  {
   "cell_type": "code",
   "execution_count": 6,
   "id": "ad0e046b",
   "metadata": {},
   "outputs": [
    {
     "name": "stdout",
     "output_type": "stream",
     "text": [
      "Hello 10\n"
     ]
    }
   ],
   "source": [
    "print(a+str(b))  "
   ]
  },
  {
   "cell_type": "markdown",
   "id": "4dcd7c9e",
   "metadata": {},
   "source": [
    "## Problem statement 1\n",
    "\n",
    "Print out a line of 40 '-' signs (to look like one long line)\n",
    "Then print the number 42 so that it is right justified to the end of \n",
    "the above line\n",
    "Then print one more line of length 40, but with the pattern '*-*-*-' "
   ]
  },
  {
   "cell_type": "code",
   "execution_count": 7,
   "id": "e2793fa4",
   "metadata": {},
   "outputs": [
    {
     "name": "stdout",
     "output_type": "stream",
     "text": [
      "----------------------------------------\n",
      "                                      42\n",
      "*-*-*-*-*-*-*-*-*-*-*-*-*-*-*-*-*-*-*-*-"
     ]
    }
   ],
   "source": [
    "\n",
    "for i in range(40):\n",
    "    print(\"-\", end=\"\")\n",
    "print('')\n",
    "for i in range(38):\n",
    "    print(\" \", end=\"\")\n",
    "print(\"42\")\n",
    "for i in range(20):\n",
    "    print(\"*-\", end=\"\")\n"
   ]
  },
  {
   "cell_type": "code",
   "execution_count": 8,
   "id": "9b4e1f03",
   "metadata": {},
   "outputs": [
    {
     "name": "stdout",
     "output_type": "stream",
     "text": [
      "The variable 'a' has the value Hello  and 'b' has the value         10\n"
     ]
    }
   ],
   "source": [
    "print(f\"The variable 'a' has the value {a} and 'b' has the value {b:>10}\")"
   ]
  },
  {
   "cell_type": "code",
   "execution_count": 1,
   "id": "9d746f81",
   "metadata": {},
   "outputs": [
    {
     "name": "stdout",
     "output_type": "stream",
     "text": [
      "ID        Name\n",
      "EE2703    Applied Programming Lab\n",
      "EE2003    Computer Organization\n",
      "EE5311    Digital IC Design\n"
     ]
    }
   ],
   "source": [
    "courses = [    \n",
    "            {'id': 'EE2703', 'name': 'Applied Programming Lab'},    \n",
    "            {'id': 'EE2003', 'name': 'Computer Organization'},    \n",
    "            {'id': 'EE5311', 'name': 'Digital IC Design'}\n",
    "        ]\n",
    "print(\"{:<10}{}\".format(\"ID\", \"Name\"))\n",
    "for course in courses:\n",
    "    print(\"{:<10}{}\".format(course['id'], course['name']))"
   ]
  },
  {
   "cell_type": "markdown",
   "id": "959169d6",
   "metadata": {},
   "source": [
    "# Functions for general manipulation"
   ]
  },
  {
   "cell_type": "markdown",
   "id": "7988e5ae",
   "metadata": {},
   "source": [
    "## Problem statement 2\n",
    "Write a function with name 'twosc' that will take a single integer \n",
    "as input, and print out the binary representation of the number \n",
    "as output.  The function should take one other optional parameter N \n",
    "which represents the number of bits.  The final result should always \n",
    "contain N characters as output (either 0 or 1) and should use \n",
    "two's complement to represent the number if it is negative.\n",
    "Examples:\n",
    "twosc(10): 0000000000001010\n",
    "twosc(-10): 1111111111110110\n",
    "twosc(-20, 8): 11101100\n",
    "\n",
    "Use only functions from the Python standard library to do this."
   ]
  },
  {
   "cell_type": "code",
   "execution_count": 10,
   "id": "fb799573",
   "metadata": {},
   "outputs": [],
   "source": [
    "def twosc(x, N):\n",
    "    if(x==0):\n",
    "        for i in range(N):\n",
    "            print(\"0\", end='')\n",
    "    \n",
    "    for i in range(1,N+1):\n",
    "        print((x>>(N-i))&1, end=\"\")\n",
    "    print(\"\")\n"
   ]
  },
  {
   "cell_type": "code",
   "execution_count": 11,
   "id": "6adfa01e",
   "metadata": {},
   "outputs": [
    {
     "name": "stdout",
     "output_type": "stream",
     "text": [
      "0000000000001010\n",
      "1111111111110110\n",
      "11101100\n"
     ]
    }
   ],
   "source": [
    "twosc(10,16)\n",
    "twosc(-10,16)\n",
    "twosc(-20, 8)"
   ]
  },
  {
   "cell_type": "markdown",
   "id": "68dd4bfd",
   "metadata": {},
   "source": [
    "Here we are simply putting the number inside the function either negative or negative because, the python compiler itself takes the negative data as two's compliment and thus, it furthur doesn't need any algo to compliment. "
   ]
  },
  {
   "cell_type": "markdown",
   "id": "d9845f63",
   "metadata": {},
   "source": [
    "# List comprehensions and decorators"
   ]
  },
  {
   "cell_type": "code",
   "execution_count": 12,
   "id": "9f573a70-d7f0-4496-926f-34b7cff5492f",
   "metadata": {},
   "outputs": [
    {
     "data": {
      "text/plain": [
       "[0, 4, 16, 36, 64]"
      ]
     },
     "execution_count": 12,
     "metadata": {},
     "output_type": "execute_result"
    }
   ],
   "source": [
    "# Explain the output you see below\n",
    "[x*x for x in range(10) if x%2 == 0]"
   ]
  },
  {
   "cell_type": "markdown",
   "id": "ba6e6a70",
   "metadata": {},
   "source": [
    "It will return a array of only even numbers because of the if condition x%2==0"
   ]
  },
  {
   "cell_type": "code",
   "execution_count": 13,
   "id": "d34ddb81-5caf-40a7-ac1f-43ce08d64220",
   "metadata": {},
   "outputs": [
    {
     "data": {
      "text/plain": [
       "[1, 2, 3, 4, 5, 6, 7, 8, 9]"
      ]
     },
     "execution_count": 13,
     "metadata": {},
     "output_type": "execute_result"
    }
   ],
   "source": [
    "# Explain the output you see below\n",
    "matrix = [[1,2,3], [4,5,6], [7,8,9]]\n",
    "[v for row in matrix for v in row]"
   ]
  },
  {
   "cell_type": "markdown",
   "id": "6ae7f7de",
   "metadata": {},
   "source": [
    "First element in matrix is selected and named as row and then , elements in row is selected one by one and printed as v`"
   ]
  },
  {
   "cell_type": "markdown",
   "id": "a07c9b2f",
   "metadata": {},
   "source": [
    "## Problem Statement\n",
    "Define a function `is_prime(x)` that will return True if a number \n",
    "is prime, or False otherwise.\n",
    "Use it to write a one-line statement that will print all \n",
    "prime numbers between 1 and 100"
   ]
  },
  {
   "cell_type": "code",
   "execution_count": 5,
   "id": "e7349601-a068-4d91-bc0f-bcc755c4b215",
   "metadata": {},
   "outputs": [],
   "source": [
    "def is_Prime(n):\n",
    "    if(n==1):\n",
    "        return False\n",
    "    if(n==2 or n==3 or n==5):\n",
    "        return True\n",
    "    if(n%2==0 or n%3==0 or n%5==0):\n",
    "        return False\n",
    "    for i in range(5, int(n**(0.5)), 6):\n",
    "        if(n%i==0 or n%(i+2)==0):\n",
    "            return False\n",
    "    return True"
   ]
  },
  {
   "cell_type": "markdown",
   "id": "660824bf",
   "metadata": {},
   "source": [
    "In this function, firstly the number is checked if it is divisible by 2,3 and 5 or not. \n",
    "\n",
    "After that,\n",
    " \n",
    "a loop start with i = 5 with increament of +6. Then it checks the remainder with divisor as i and i+2. The loop goes on till i<= $x^{0.5}$ ."
   ]
  },
  {
   "cell_type": "code",
   "execution_count": 4,
   "id": "52ca73ba",
   "metadata": {},
   "outputs": [
    {
     "name": "stdout",
     "output_type": "stream",
     "text": [
      "[2, 3, 5, 7, 11, 13, 17, 19, 23, 29, 31, 37, 41, 43, 47, 53, 59, 61, 67, 71, 73, 79, 83, 89, 97]\n"
     ]
    }
   ],
   "source": [
    "print([x for x in range(1,101) if is_Prime(x)])"
   ]
  },
  {
   "cell_type": "markdown",
   "id": "543b380c",
   "metadata": {},
   "source": [
    "## Problem Statement\n",
    "Explain the output below"
   ]
  },
  {
   "cell_type": "code",
   "execution_count": 2,
   "id": "3dd1087b-f384-41a2-88d8-6788336d2291",
   "metadata": {},
   "outputs": [
    {
     "name": "stdout",
     "output_type": "stream",
     "text": [
      "Hello happy flappy world\n"
     ]
    }
   ],
   "source": [
    "def f1(x):\n",
    "    return \"happy \" + x\n",
    "def f2(f):\n",
    "    def wrapper(*args, **kwargs):\n",
    "        return \"Hello \" + f(*args, **kwargs) + \" world\"\n",
    "    return wrapper\n",
    "f3 = f2(f1)\n",
    "print(f3(\"flappy\"))"
   ]
  },
  {
   "cell_type": "markdown",
   "id": "71dc5920",
   "metadata": {},
   "source": [
    "The Code Happens in a series of event \n",
    "\n",
    "$1_{st}$ ly when we enter f3(\"flappy\") it is as same as writting f2(f1(\"flappy)).\n",
    "\n",
    "Now f1(\"flappy\") runs so we get return \"Happy Flappy\" now this goes as argument to f2\n",
    "\n",
    "in f2 we get,\n",
    "return \"Hello\" + f(*args, **kwargs) +\"world\"=> which is equicalent to \"Hello happy flappy world\" in our case"
   ]
  },
  {
   "cell_type": "code",
   "execution_count": 17,
   "id": "ede870a7-6564-4930-9ff1-818f075c3e43",
   "metadata": {},
   "outputs": [
    {
     "name": "stdout",
     "output_type": "stream",
     "text": [
      "Hello nappy 5 world\n",
      "Hello nappy flappy world\n",
      "Hello nappy flay world\n"
     ]
    }
   ],
   "source": [
    "# Explain the output below\n",
    "@f2\n",
    "def f4(x):\n",
    "    return \"nappy \" + x\n",
    "\n",
    "print(f4(\"5\"))\n",
    "print(f4(\"flappy\"))\n",
    "print(f4(\"flay\"))\n"
   ]
  },
  {
   "cell_type": "markdown",
   "id": "da3a2dfc",
   "metadata": {},
   "source": [
    "The second output is the result of calling f4(\"flappy\"). Here, the f2 function is used as a decorator, which means it is applied to the f4 function definition. The decorator syntax @f2 is equivalent to f4 = f2(f4). So, f4 is redefined as the wrapper function returned by f2 with f4 as the inner function. When we call f4(\"flappy\"), it is equivalent to calling \"Hello \" + \"nappy \" + \"flappy\" + \" world\" which results in \"Hello nappy flappy world\"."
   ]
  },
  {
   "cell_type": "markdown",
   "id": "de144cc1-a06a-4e96-8017-7887296dddc0",
   "metadata": {},
   "source": [
    "# File IO"
   ]
  },
  {
   "cell_type": "markdown",
   "id": "924cc6d0",
   "metadata": {},
   "source": [
    "## Problem Statement\n",
    "\n",
    "Write a function to generate prime numbers from 1 to N (input)\n",
    "and write them to a file (second argument).  You can reuse the prime\n",
    "detection function written earlier.\n"
   ]
  },
  {
   "cell_type": "markdown",
   "id": "5572c3b9",
   "metadata": {},
   "source": [
    "Firstly lets import csv"
   ]
  },
  {
   "cell_type": "code",
   "execution_count": 5,
   "id": "5cd83b9d",
   "metadata": {},
   "outputs": [],
   "source": [
    "import csv"
   ]
  },
  {
   "cell_type": "code",
   "execution_count": 19,
   "id": "09e62f52-fec6-4026-a4d8-ca4b87b19732",
   "metadata": {},
   "outputs": [],
   "source": [
    "def write_primes(N, filename):\n",
    "    n=[]\n",
    "    infile=open(\"data.txt\",'w',newline='')\n",
    "    n.append([i for i in range(1,N+1) if is_Prime(i)])\n",
    "    csv.writer(infile).writerow(n)\n",
    "    infile.close()"
   ]
  },
  {
   "cell_type": "markdown",
   "id": "a0933b83",
   "metadata": {},
   "source": [
    "## Function\n",
    "it first opens a file name data.txt and then writes the prime number from 2 to the given number."
   ]
  },
  {
   "cell_type": "code",
   "execution_count": 20,
   "id": "4a2c7ba8",
   "metadata": {},
   "outputs": [],
   "source": [
    "write_primes(100, \"data.txt\")"
   ]
  },
  {
   "cell_type": "markdown",
   "id": "9b2de5cb-13c3-4804-9576-e7bb6fd3a371",
   "metadata": {},
   "source": [
    "# Exceptions"
   ]
  },
  {
   "cell_type": "markdown",
   "id": "27cb15da",
   "metadata": {},
   "source": [
    "## Problem Statement"
   ]
  },
  {
   "cell_type": "markdown",
   "id": "e5046a4c",
   "metadata": {},
   "source": [
    "Write a function that takes in a number as input, and prints out \n",
    "whether it is a prime or not.  If the input is not an integer,\n",
    "print an appropriate error message.  Use exceptions to detect problems."
   ]
  },
  {
   "cell_type": "code",
   "execution_count": 22,
   "id": "eec5626e-6e92-45bf-b307-2459de0f44e1",
   "metadata": {},
   "outputs": [
    {
     "name": "stdout",
     "output_type": "stream",
     "text": [
      "Enter a number:  9.9\n"
     ]
    },
    {
     "name": "stdout",
     "output_type": "stream",
     "text": [
      "The input number is invalid\n"
     ]
    }
   ],
   "source": [
    "def check_prime():\n",
    "    try:\n",
    "        x = int(input('Enter a number: '))\n",
    "        print(is_Prime(x))\n",
    "    except:\n",
    "        print(\"The input number is invalid\")\n",
    "    \n",
    "\n",
    "check_prime()"
   ]
  },
  {
   "cell_type": "markdown",
   "id": "5672cacb",
   "metadata": {},
   "source": [
    "### Explaination\n",
    "In the function, a number is asked in the form of int. If the user inputs a invalid number or characters then the line\n",
    "\n",
    "x= int(input('Enter a number:'))\n",
    "\n",
    "will raise an error\n"
   ]
  }
 ],
 "metadata": {
  "authors": [
   {
    "name": "Siddarth Baruah <ee21b128@smail.iitm.ac.in>"
   }
  ],
  "kernelspec": {
   "display_name": "Python 3 (ipykernel)",
   "language": "python",
   "name": "python3"
  },
  "language_info": {
   "codemirror_mode": {
    "name": "ipython",
    "version": 3
   },
   "file_extension": ".py",
   "mimetype": "text/x-python",
   "name": "python",
   "nbconvert_exporter": "python",
   "pygments_lexer": "ipython3",
   "version": "3.8.8"
  },
  "title": "EE2703 - Week 1",
  "toc-autonumbering": true,
  "vscode": {
   "interpreter": {
    "hash": "b98d9e8c046d4e1ce02cab36f21346f5312db8375035f8b80d948038fba9b1a6"
   }
  }
 },
 "nbformat": 4,
 "nbformat_minor": 5
}
