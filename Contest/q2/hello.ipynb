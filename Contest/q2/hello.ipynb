{
 "cells": [
  {
   "cell_type": "code",
   "execution_count": 101,
   "metadata": {},
   "outputs": [],
   "source": [
    "import numpy as np\n",
    "with open(\"G81.txt\") as f:\n",
    "    read= f.read().splitlines()\n",
    "    "
   ]
  },
  {
   "cell_type": "code",
   "execution_count": 102,
   "metadata": {},
   "outputs": [],
   "source": [
    "data=[]\n",
    "for dat in read:\n",
    "    data.append(dat.split())"
   ]
  },
  {
   "cell_type": "code",
   "execution_count": 103,
   "metadata": {},
   "outputs": [],
   "source": [
    "no_nodes= int(data[0][0])\n",
    "no_edges= int(data[0][1])\n",
    "node1= []\n",
    "node2= []\n",
    "weight= []\n",
    "for item in range(1, no_edges):\n",
    "    node1.append(int(data[item][0]))\n",
    "    node2.append(int(data[item][1]))\n",
    "    weight.append(int(data[item][2]))"
   ]
  },
  {
   "cell_type": "code",
   "execution_count": 104,
   "metadata": {},
   "outputs": [],
   "source": [
    "group1= []\n",
    "group2= []\n",
    "for iter in range(no_edges):\n",
    "    index= weight.index(max(weight))\n",
    "    n1= node1[index]\n",
    "    n2= node2[index]\n",
    "    if n1 in group1:\n",
    "        if n2 in group2:\n",
    "            continue\n",
    "        else: \n",
    "            group2.append(n2)\n",
    "    elif n1 in group2: \n",
    "        if n2 in group1:\n",
    "            continue\n",
    "        else: \n",
    "            group1.append(n2)\n",
    "    elif n2 in group1: \n",
    "        group2.append(n1)\n",
    "    elif n2 in group2: \n",
    "        group1.append(n1)\n",
    "    else: \n",
    "        group1.append(n1)\n",
    "        group2.append(n2)\n",
    "\n",
    "\n",
    "            \n",
    "    del weight[index]\n",
    "    del node1[index]\n",
    "    del node2[index]\n",
    "    if(len(node1)==0):\n",
    "        break\n",
    "    \n",
    "    \n"
   ]
  }
 ],
 "metadata": {
  "kernelspec": {
   "display_name": "base",
   "language": "python",
   "name": "python3"
  },
  "language_info": {
   "codemirror_mode": {
    "name": "ipython",
    "version": 3
   },
   "file_extension": ".py",
   "mimetype": "text/x-python",
   "name": "python",
   "nbconvert_exporter": "python",
   "pygments_lexer": "ipython3",
   "version": "3.8.16"
  },
  "orig_nbformat": 4
 },
 "nbformat": 4,
 "nbformat_minor": 2
}
