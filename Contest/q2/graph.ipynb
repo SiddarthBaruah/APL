{
 "cells": [
  {
   "attachments": {},
   "cell_type": "markdown",
   "metadata": {},
   "source": [
    "# To find the maximum sum, we can execute the code in one go."
   ]
  },
  {
   "cell_type": "code",
   "execution_count": 3,
   "metadata": {},
   "outputs": [],
   "source": [
    "lines = open(\"G81.txt\", \"r\").readlines()\n",
    "\n",
    "# This maintains a record of the grouping to which each vertex belongs - known as a vertex grouping dictionary.\n",
    "vert = {}\n",
    "\n",
    "# dictionary of vertices to neighbours\n",
    "neigh = {}\n",
    "\n",
    "# array of edges\n",
    "edges = [] # weight, node1, node2\n",
    "\n",
    "# unnecessary variable that we forgot to remove\n",
    "i = 0"
   ]
  },
  {
   "cell_type": "code",
   "execution_count": 4,
   "metadata": {},
   "outputs": [],
   "source": [
    "for line in lines[1:]:\n",
    "    split = line.strip().split()\n",
    "\n",
    "    # initially leave the grouping of each vertex as None\n",
    "    vert[split[0]] = None\n",
    "    vert[split[1]] = None\n",
    "\n",
    "    for i in 0, 1:\n",
    "        # add each vertex to the neighbours dictionary\n",
    "        if split[i] not in neigh:\n",
    "            neigh[split[i]] = []\n",
    "\n",
    "        # add the neighbour and the weight of the edge\n",
    "        # this adds [neighbour, weight] to the array\n",
    "        neigh[split[i]].append([split[1 - i], int(split[2])])\n",
    "\n",
    "    # add [weight, vertex1, vertex2] to the edge array\n",
    "    edges.append([int(split[2]), split[0], split[1]])\n",
    " "
   ]
  },
  {
   "attachments": {},
   "cell_type": "markdown",
   "metadata": {},
   "source": [
    "Initially, our approach was to traverse a list of edges in reverse-sorted order and repeatedly divide the edges along this list until it's no longer possible to divide them further."
   ]
  },
  {
   "cell_type": "code",
   "execution_count": 5,
   "metadata": {},
   "outputs": [],
   "source": [
    "# reverse sorting out edges\n",
    "edges.sort()\n",
    "edges.reverse()"
   ]
  },
  {
   "attachments": {},
   "cell_type": "markdown",
   "metadata": {},
   "source": [
    "During the edge-cutting process, if neither vertex is assigned to a grouping, this function determines the position of the left vertex. We initially planned to introduce randomness into this process and created a separate function for it. However, we later devised a more efficient approach and decided not to implement this function."
   ]
  },
  {
   "cell_type": "code",
   "execution_count": 6,
   "metadata": {},
   "outputs": [],
   "source": [
    "def put_zeros():\n",
    "    return 0\n"
   ]
  },
  {
   "cell_type": "code",
   "execution_count": 7,
   "metadata": {},
   "outputs": [
    {
     "name": "stdout",
     "output_type": "stream",
     "text": [
      "6210\n"
     ]
    }
   ],
   "source": [
    "\n",
    "# sum of edges that we cut (variable name is a misnomer)\n",
    "sum_vert = 0\n",
    "\n",
    "# Our algorithm involves examining each edge in decreasing order of weight and analyzing the vertices connected by the edge.\n",
    "# If both vertices are unassigned to any group, they are allocated to different groups based on the outcome of the \"put_zeros\" function.\n",
    "# If one vertex has no grouping, and the other does, we assign the unassigned vertex to the opposite group of the assigned vertex.\n",
    "# If both vertices are already grouped, we do not take any action.\n",
    "\n",
    "for edge in edges:\n",
    "    n1 = vert[edge[1]]\n",
    "    n2 = vert[edge[2]]\n",
    "\n",
    "\n",
    "\n",
    "    if n1 is None:\n",
    "        if n2 is None:\n",
    "            vert[edge[1]] = put_zeros()\n",
    "            vert[edge[2]] = 1 - vert[edge[1]]\n",
    "        else:\n",
    "            vert[edge[1]] = 1 - vert[edge[2]]\n",
    "    elif n2 is None:\n",
    "        vert[edge[2]] = 1 - vert[edge[1]]\n",
    "\n",
    "    # if the vertices are in different groups, add the weight of this edge\n",
    "    # to our sum\n",
    "    if vert[edge[1]] != vert[edge[2]]:\n",
    "        sum_vert += edge[0]\n",
    "\n",
    "print(sum_vert)\n"
   ]
  }
 ],
 "metadata": {
  "kernelspec": {
   "display_name": "base",
   "language": "python",
   "name": "python3"
  },
  "language_info": {
   "codemirror_mode": {
    "name": "ipython",
    "version": 3
   },
   "file_extension": ".py",
   "mimetype": "text/x-python",
   "name": "python",
   "nbconvert_exporter": "python",
   "pygments_lexer": "ipython3",
   "version": "3.8.16"
  },
  "orig_nbformat": 4
 },
 "nbformat": 4,
 "nbformat_minor": 2
}
