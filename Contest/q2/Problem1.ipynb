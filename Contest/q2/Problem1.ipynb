{
 "cells": [
  {
   "cell_type": "code",
   "execution_count": null,
   "metadata": {},
   "outputs": [],
   "source": [
    "import numpy as np\n",
    "# importing file\n",
    "with open(\"inp_10k.txt\") as f:\n",
    "    read=f.read().splitlines()\n",
    "newnode=[]\n",
    "for i in read:\n",
    "    newnode.append(i.split())\n",
    "\n",
    "no_of_input= int(newnode[0][0])\n",
    "sum=0\n",
    "array1=[]\n",
    "# sum of all the values of array\n",
    "for i in range(1,no_of_input):\n",
    "    array1.append(int(newnode[i][0]))\n",
    "    sum+= int(newnode[i][0])\n",
    "\n",
    "array1=np.array(array1, dtype=int)\n",
    "location= np.argsort(array1) # sorting indices according to increasing order of the values\n",
    "array1= np.sort(array1)  # sorting values in increasing order\n",
    "\n",
    "a=sum/2\n",
    "summ=0\n",
    "i=0\n",
    "array=[0]*no_of_input\n",
    "# summing up all the values until it's less than half of the sum\n",
    "while(summ< sum/2):\n",
    "    summ+= array1[i]\n",
    "    array[i]= 1\n",
    "    i+=1\n",
    "\n",
    "newarray= [0]*(no_of_input+1)\n",
    "newarray[0]= no_of_input\n",
    "# storing all these vlalues as zero and one in newarray   \n",
    "for item in range(1, no_of_input):\n",
    "    newarray[location[item-1]+1]= array[item]\n",
    "# storing it in a file\n",
    "with open('file10k.txt','w') as f:\n",
    "    for i in range(no_of_input+1):    \n",
    "        f.writelines(str(newarray[i])+'\\n')\n",
    "        "
   ]
  },
  {
   "attachments": {},
   "cell_type": "markdown",
   "metadata": {},
   "source": [
    " \n",
    "* First we imported the file,then stored it in a list(newnode).\n",
    "* Then we calculated sum of all the values of array and stored it in a variable(sum).\n",
    "* Then we sorted our array in ascending order with it's indices in different lists(array1 and location respectively).\n",
    "* Then we calculated sum of our sorted array, till it's less than half of calculated sum.By this method, we got the set of values for which sum is making partition. Later on we stored all the respective 1 and 0 values in a file. "
   ]
  },
  {
   "attachments": {},
   "cell_type": "markdown",
   "metadata": {},
   "source": [
    "# LOGIC \n",
    "In the beginning, we calculated the sum of all the values of given input. Then we sorted our array in ascending order. Then we summed all the numbers of ascending order list till its less that half of the total sum. And we made a set of these values and marked them as 1 and another set as 0. "
   ]
  }
 ],
 "metadata": {
  "kernelspec": {
   "display_name": "base",
   "language": "python",
   "name": "python3"
  },
  "language_info": {
   "codemirror_mode": {
    "name": "ipython",
    "version": 3
   },
   "file_extension": ".py",
   "mimetype": "text/x-python",
   "name": "python",
   "nbconvert_exporter": "python",
   "pygments_lexer": "ipython3",
   "version": "3.9.13"
  },
  "orig_nbformat": 4
 },
 "nbformat": 4,
 "nbformat_minor": 2
}
