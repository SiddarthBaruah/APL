{
 "cells": [
  {
   "cell_type": "code",
   "execution_count": 155,
   "metadata": {},
   "outputs": [],
   "source": [
    "import numpy as np\n",
    "with open(\"inp_10k.txt\") as f:\n",
    "    read=f.read().splitlines()\n",
    "newnode=[]\n",
    "for i in read:\n",
    "    newnode.append(i.split())\n",
    "\n",
    "no_of_input= int(newnode[0][0])\n",
    "sum=0\n",
    "array1=[]\n",
    "\n",
    "for i in range(1,no_of_input):\n",
    "    array1.append(int(newnode[i][0]))\n",
    "    sum+= int(newnode[i][0])\n",
    "\n",
    "array1=np.array(array1, dtype=int)\n",
    "location= np.argsort(array1)\n",
    "array1= np.sort(array1)\n",
    "\n",
    "a=sum/2\n",
    "summ=0\n",
    "i=0\n",
    "array=[0]*no_of_input\n",
    "while(summ< sum/2):\n",
    "    summ+= array1[i]\n",
    "    array[i]= 1\n",
    "    i+=1\n",
    "    \n",
    "newarray= [0]*(no_of_input+1)\n",
    "newarray[0]= no_of_input\n",
    "for item in range(1, no_of_input):\n",
    "    newarray[location[item-1]+1]= array[item]\n",
    "\n",
    "with open('file10k.txt','w') as f:\n",
    "    for i in range(no_of_input+1):    \n",
    "        f.writelines(str(newarray[i])+'\\n')\n",
    "        "
   ]
  },
  {
   "cell_type": "code",
   "execution_count": null,
   "metadata": {},
   "outputs": [],
   "source": []
  }
 ],
 "metadata": {
  "kernelspec": {
   "display_name": "base",
   "language": "python",
   "name": "python3"
  },
  "language_info": {
   "codemirror_mode": {
    "name": "ipython",
    "version": 3
   },
   "file_extension": ".py",
   "mimetype": "text/x-python",
   "name": "python",
   "nbconvert_exporter": "python",
   "pygments_lexer": "ipython3",
   "version": "3.8.8"
  },
  "orig_nbformat": 4
 },
 "nbformat": 4,
 "nbformat_minor": 2
}
