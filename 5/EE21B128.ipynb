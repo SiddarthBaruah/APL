{
 "cells": [
  {
   "attachments": {},
   "cell_type": "markdown",
   "metadata": {},
   "source": [
    "# WEEK 5\n",
    "\n",
    "Firstly importing the required libraries"
   ]
  },
  {
   "cell_type": "code",
   "execution_count": 1,
   "metadata": {},
   "outputs": [],
   "source": [
    "%matplotlib ipympl\n",
    "# Some basic imports that are useful\n",
    "import numpy as np\n",
    "import matplotlib.pyplot as plt\n",
    "from matplotlib.animation import FuncAnimation"
   ]
  },
  {
   "cell_type": "code",
   "execution_count": 2,
   "metadata": {},
   "outputs": [
    {
     "data": {
      "application/vnd.jupyter.widget-view+json": {
       "model_id": "8d86b74257a9464fa2a3b9fa1a710f2a",
       "version_major": 2,
       "version_minor": 0
      },
      "image/png": "[encoded data removed]",
      "text/html": [
       "\n",
       "            <div style=\"display: inline-block;\">\n",
       "                <div class=\"jupyter-widgets widget-label\" style=\"text-align: center;\">\n",
       "                    Figure\n",
       "                </div>\n",
       "                <img src='data:image/png;base64,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' width=640.0/>\n",
       "            </div>\n",
       "        "
      ],
      "text/plain": [
       "Canvas(toolbar=Toolbar(toolitems=[('Home', 'Reset original view', 'home', 'home'), ('Back', 'Back to previous …"
      ]
     },
     "metadata": {},
     "output_type": "display_data"
    }
   ],
   "source": [
    "#Here we are closing any plots if they are open\n",
    "plt.close()\n",
    "\n",
    "#Here we are defining some of the required variables\n",
    "fig = plt.figure()\n",
    "ax= plt.axes(xlim= (-2,2), ylim= (-2,2))\n",
    "xdata, ydata = [], []\n",
    "ln, = ax.plot([], [], lw=2)\n",
    "\n",
    "#this will initial the ln coordinates\n",
    "def init():\n",
    "    ln.set_data([],[])\n",
    "    return ln,\n"
   ]
  },
  {
   "attachments": {},
   "cell_type": "markdown",
   "metadata": {},
   "source": [
    "# Tributary Functions\n",
    "\n",
    "---\n",
    "\n",
    "\n",
    "The following function <b>morph</b> will return a point between between two points (x1,y1) and (x2,y2). Here alpha is the weight factor and f is the scalling factor. Thus depending on 'alpha' and 'f' the location of the returning point will be set. "
   ]
  },
  {
   "cell_type": "code",
   "execution_count": 3,
   "metadata": {},
   "outputs": [],
   "source": [
    "def morph(x1, y1, x2, y2, alpha,f):\n",
    "    xm = alpha * x1 + (f-alpha) * x2\n",
    "    xm= xm/f\n",
    "    ym = alpha * y1 + (f-alpha) * y2\n",
    "    ym= ym/f\n",
    "    return xm, ym"
   ]
  },
  {
   "attachments": {},
   "cell_type": "markdown",
   "metadata": {},
   "source": [
    "There are two functions in the following cell:\n",
    "\n",
    "-   <b>polygonN:</b> This funciton will return abscissas and ordinates of n sided polynomial with (1,0) as one of its point.\n",
    "-   <b>returnshapes:</b> This function will use the above function 'polygonN' in order to return a set of shapes begining from 3 to the number n  "
   ]
  },
  {
   "cell_type": "code",
   "execution_count": 4,
   "metadata": {},
   "outputs": [],
   "source": [
    "def polygonN(n):\n",
    "    abscissa = []\n",
    "    ordinate = []\n",
    "\n",
    "    #including (1,0) as one of it's point\n",
    "    abscissa.append(1)\n",
    "    ordinate.append(0)\n",
    "\n",
    "    angle = np.pi*2/n\n",
    "    for i in range (1,n):\n",
    "        x = np.cos(angle*i)\n",
    "        y = np.sin(angle*i)\n",
    "        abscissa.append(x)\n",
    "        ordinate.append(y)\n",
    "    #again including this point so\n",
    "    #that when plot is made, the final line joining to the initial point is made\n",
    "    abscissa.append(1)\n",
    "    ordinate.append(0)\n",
    "    return abscissa, ordinate \n",
    "\n",
    "def returnshapes(n):\n",
    "    coordinates=[]\n",
    "    for i in range(3,n):\n",
    "        x,y= polygonN(i)\n",
    "        coordinates.append([x,y])\n",
    "    return coordinates"
   ]
  },
  {
   "cell_type": "code",
   "execution_count": 5,
   "metadata": {},
   "outputs": [],
   "source": [
    "#here I am defining a variable name shapes and it contains shapes starting\n",
    "#from triangle to octagon as shown in the video \n",
    "shapes = returnshapes(8)"
   ]
  },
  {
   "attachments": {},
   "cell_type": "markdown",
   "metadata": {},
   "source": [
    "# Main Function\n",
    "\n",
    "---\n",
    "The following class is the main code of the Assignment. So what this class 'ShapeAnimate' does is, it works as a function to return points that are required for the annimation. So each and every edge that will be there in the animation will be generated here.\n",
    "\n",
    "So how it works is that:\n",
    "\n",
    "Say there are two consecutive shapes triangle and square, and we need to morph between them. Firstly I will generate an intermediate shape, and animate the eddges of the intermediate shape to match the first and the second shape.  "
   ]
  },
  {
   "cell_type": "code",
   "execution_count": 6,
   "metadata": {},
   "outputs": [],
   "source": [
    "class ShapeAnimate():\n",
    "    def __init__(self,shapes, num_of_shapes,frmes_btn_shapes):\n",
    "        self.shapes =shapes\n",
    "        self.num_of_shapes= num_of_shapes\n",
    "        self.frmes_btn_shapes= frmes_btn_shapes\n",
    "        \n",
    "    def intermediate_shape1(self,shape_no,points):\n",
    "        req_shape= []\n",
    "        #taking the coodinates of the shape\n",
    "        y= points[shape_no -3][1]\n",
    "        x= points[shape_no -3][0]\n",
    "        for j in range(len(points[shape_no-3][0])-1):\n",
    "            #it will select one line of the first shape\n",
    "            m1= (y[j]- y[j+1])/(x[j]- x[j+1]) #slope of the edge\n",
    "            c1= y[j] - m1*x[j] #intercepting const\n",
    "\n",
    "            #it will make a line from orgin to the angle of second shape\n",
    "            m2= points[shape_no-2][1][j+1]/ points[shape_no-2][0][j+1]\n",
    "            \n",
    "            #making two equation\n",
    "            coeffmat= np.array([[-m1,1],[-m2,1]])\n",
    "            const_vector= np.array([c1,0])\n",
    "\n",
    "            #the position is the solution of the two equations\n",
    "            position= np.linalg.solve(coeffmat,\n",
    "                                        const_vector)\n",
    "            \n",
    "            #finally appening all the postions to make a shape\n",
    "            req_shape.append(position)\n",
    "        return req_shape\n",
    "\n",
    "    def intermediate_shape2(self,shape_no, shapes):\n",
    "        req_shape=[]\n",
    "        for j in range(len(shapes[shape_no-3][0])-2):\n",
    "\n",
    "            #here nameing the variable to understand the the next codes \n",
    "            #easier.\n",
    "            nextshape_y1= shapes[shape_no-2][1][j+1]\n",
    "            nextshape_y2= shapes[shape_no-2][1][j+2] \n",
    "            nextshape_x1= shapes[shape_no-2][0][j+1]\n",
    "            nextshape_x2= shapes[shape_no-2][0][j+2] \n",
    "\n",
    "            shape_y= shapes[shape_no-3][1][j+1]\n",
    "            shape_x= shapes[shape_no-3][0][j+1]\n",
    "\n",
    "\n",
    "            slope1= (nextshape_y1-nextshape_y2)/(nextshape_x1-nextshape_x2)\n",
    "            intercept1= nextshape_y1 - slope1*nextshape_x1\n",
    "\n",
    "            slope2= shape_y/shape_x\n",
    "            #making the equations out of the calculated slopes and const\n",
    "            coeffmat= np.array([[-slope1,1],[-slope2,1]])\n",
    "            const_vector= np.array([intercept1,0])\n",
    "\n",
    "            #finding solution to the two eq\n",
    "            position= np.linalg.solve(coeffmat,const_vector)\n",
    "\n",
    "            #ammending all the positons to make a shape\n",
    "            req_shape.append(position)\n",
    "        return req_shape\n",
    "\n",
    "\n",
    "    def animatedpoints(self):\n",
    "        #naming of framepoint is such that, it contains the points of each frame\n",
    "        #of the simulation\n",
    "        framepoints=[]\n",
    "        \n",
    "        #iterating through each frame\n",
    "        for i in range(3, self.num_of_shapes+2):\n",
    "            \n",
    "            framepoints.append([])\n",
    "            x= shapes[i-3][0]\n",
    "            y= shapes[i-3][1]\n",
    "            framepoints[(i-3)*self.frmes_btn_shapes].append(x)\n",
    "            framepoints[(i-3)*self.frmes_btn_shapes].append(y)\n",
    "            \n",
    "            next_shape=[]\n",
    "            same_shape=[]\n",
    "\n",
    "            next_shape= self.intermediate_shape1(i, self.shapes)\n",
    "            same_shape= self.intermediate_shape2(i, self.shapes)\n",
    "\n",
    "            for j in range(1, self.frmes_btn_shapes):\n",
    "                framepoints.append([])\n",
    "                xpoints=[1]\n",
    "                ypoints=[0]\n",
    "                #here the code will make the edge of the intermiadiate shape\n",
    "                #morph from one shape to another slowly and will add each of\n",
    "                #the intermediate shape to framepoints\n",
    "                for k in range(len(x)-1):\n",
    "                    #morphing between two points\n",
    "                    X,Y= morph(\n",
    "                                self.shapes[i-2][0][k+1],\n",
    "                                self.shapes[i-2][1][k+1],\n",
    "                                next_shape[k][0], \n",
    "                                next_shape[k][1],\n",
    "                                j,\n",
    "                                self.frmes_btn_shapes\n",
    "                                )\n",
    "                \n",
    "                    xpoints.append(X)\n",
    "                    ypoints.append(Y)\n",
    "\n",
    "                    #morphing between two points\n",
    "                    #giving this if condition because at k= len(x)-2 there\n",
    "                    #will be one more same element +1.\n",
    "                    if(k!= len(x)-2):\n",
    "                        X,Y= morph(\n",
    "                                    same_shape[k][0], \n",
    "                                    same_shape[k][1],\n",
    "                                    shapes[i-3][0][k+1],\n",
    "                                    shapes[i-3][1][k+1],\n",
    "                                    j,\n",
    "                                    self.frmes_btn_shapes\n",
    "                                    )\n",
    "                        xpoints.append(X)\n",
    "                        ypoints.append(Y)\n",
    "                \n",
    "                xpoints.append(1)\n",
    "                ypoints.append(0)\n",
    "\n",
    "                framepoints[(i-3)*self.frmes_btn_shapes +j].append(xpoints)\n",
    "                framepoints[(i-3)*self.frmes_btn_shapes +j].append(ypoints)\n",
    "        l= len(framepoints)\n",
    "        #finally reversing all the transition from traingle to octagon and \n",
    "        #coming back to the triangle\n",
    "        for i in reversed(range(l)):\n",
    "            framepoints.append(framepoints[i])\n",
    "        return framepoints\n",
    "    "
   ]
  },
  {
   "cell_type": "code",
   "execution_count": 7,
   "metadata": {},
   "outputs": [],
   "source": [
    "#making animator the required class giving the set of shapes we found in\n",
    "#\"shapes\", lenght of shapes, and number of intermediate shapes between two\n",
    "#shapes\n",
    "animator= ShapeAnimate(shapes,len(shapes),20)\n",
    "\n",
    "#in framepoints we are storing all the animation\n",
    "framepoints= animator.animatedpoints()"
   ]
  },
  {
   "attachments": {},
   "cell_type": "markdown",
   "metadata": {},
   "source": [
    "# Update function\n",
    "---\n",
    "This function will take the $i^{th}$ element of the framepoint, and update the ln in the plot"
   ]
  },
  {
   "cell_type": "code",
   "execution_count": 8,
   "metadata": {},
   "outputs": [],
   "source": [
    "def update(i):\n",
    "    ln.set_data(framepoints[i][0], framepoints[i][1])\n",
    "    return ln,"
   ]
  },
  {
   "cell_type": "code",
   "execution_count": 9,
   "metadata": {},
   "outputs": [
    {
     "data": {
      "application/vnd.jupyter.widget-view+json": {
       "model_id": "8d86b74257a9464fa2a3b9fa1a710f2a",
       "version_major": 2,
       "version_minor": 0
      },
      "image/png": "[encoded data removed]",
      "text/html": [
       "\n",
       "            <div style=\"display: inline-block;\">\n",
       "                <div class=\"jupyter-widgets widget-label\" style=\"text-align: center;\">\n",
       "                    Figure 1\n",
       "                </div>\n",
       "                <img src='data:image/png;base64,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' width=640.0/>\n",
       "            </div>\n",
       "        "
      ],
      "text/plain": [
       "Canvas(toolbar=Toolbar(toolitems=[('Home', 'Reset original view', 'home', 'home'), ('Back', 'Back to previous …"
      ]
     },
     "metadata": {},
     "output_type": "display_data"
    }
   ],
   "source": [
    "#calling the FuncAnimation and inserting all the requred variables it needs\n",
    "anim = FuncAnimation(fig,update,\n",
    "                     init_func=init,\n",
    "                     frames = 242,\n",
    "                     interval = 100,\n",
    "                     blit = False,\n",
    "                     repeat = True)\n",
    "plt.show()"
   ]
  }
 ],
 "metadata": {
  "kernelspec": {
   "display_name": "base",
   "language": "python",
   "name": "python3"
  },
  "language_info": {
   "codemirror_mode": {
    "name": "ipython",
    "version": 3
   },
   "file_extension": ".py",
   "mimetype": "text/x-python",
   "name": "python",
   "nbconvert_exporter": "python",
   "pygments_lexer": "ipython3",
   "version": "3.8.16"
  },
  "orig_nbformat": 4
 },
 "nbformat": 4,
 "nbformat_minor": 2
}
